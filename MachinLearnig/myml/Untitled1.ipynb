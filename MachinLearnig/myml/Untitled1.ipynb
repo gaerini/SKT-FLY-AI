{
 "cells": [
  {
   "cell_type": "code",
   "execution_count": 1,
   "id": "63498413",
   "metadata": {},
   "outputs": [],
   "source": [
    "import numpy as np"
   ]
  },
  {
   "cell_type": "code",
   "execution_count": 4,
   "id": "d6ebc258",
   "metadata": {},
   "outputs": [
    {
     "name": "stdout",
     "output_type": "stream",
     "text": [
      "3\n",
      "int64\n",
      "3\n"
     ]
    }
   ],
   "source": [
    "array=np.array([1, 2, 3])\n",
    "print(array.size)\n",
    "print(array.dtype)\n",
    "print(array[2])"
   ]
  },
  {
   "cell_type": "code",
   "execution_count": 6,
   "id": "0f43090c",
   "metadata": {},
   "outputs": [
    {
     "name": "stdout",
     "output_type": "stream",
     "text": [
      "[0 1 2 3]\n",
      "[[0. 0. 0. 0.]\n",
      " [0. 0. 0. 0.]\n",
      " [0. 0. 0. 0.]\n",
      " [0. 0. 0. 0.]]\n",
      "[['1' '1' '1']\n",
      " ['1' '1' '1']\n",
      " ['1' '1' '1']]\n",
      "[[1 9 1]\n",
      " [2 1 3]\n",
      " [0 0 0]]\n",
      "[[ 0.0579703  -0.3136966   1.27044647]\n",
      " [ 0.35268165  0.76420861  1.58817574]\n",
      " [-1.42529711 -0.93372951  1.17048736]]\n"
     ]
    }
   ],
   "source": [
    "array1 = np.arange(4)\n",
    "array2 = np.zeros((4,4), dtype=float)\n",
    "array3 = np.ones((3, 3), dtype=str)\n",
    "\n",
    "array4 = np.random.randint(0, 10, (3, 3))\n",
    "array5 = np.random.normal(0, 1, (3, 3))\n",
    "\n",
    "print(array1)\n",
    "print(array2)\n",
    "print(array3)\n",
    "print(array4)\n",
    "print(array5)"
   ]
  },
  {
   "cell_type": "code",
   "execution_count": 7,
   "id": "3ddaeb44",
   "metadata": {},
   "outputs": [
    {
     "name": "stdout",
     "output_type": "stream",
     "text": [
      "(3, 4)\n"
     ]
    }
   ],
   "source": [
    "array1 = np.arange(4).reshape(1, 4)\n",
    "array2 = np.arange(8).reshape(2, 4)\n",
    "\n",
    "array3 = np.concatenate([array1, array2], axis=0)\n",
    "print(array3.shape)"
   ]
  },
  {
   "cell_type": "code",
   "execution_count": 8,
   "id": "12a50b94",
   "metadata": {},
   "outputs": [
    {
     "name": "stdout",
     "output_type": "stream",
     "text": [
      "(2, 2)\n",
      "(2, 2)\n",
      "[[0 1 2 3]\n",
      " [4 5 6 7]]\n",
      "[[0 1]\n",
      " [4 5]]\n",
      "7\n"
     ]
    }
   ],
   "source": [
    "array = np.arange(8).reshape(2, 4)\n",
    "left, right = np.split(array, [2], axis=1)\n",
    "\n",
    "print(left.shape)\n",
    "print(right.shape)\n",
    "print(array)\n",
    "print(left)\n",
    "print(right[1][1])"
   ]
  },
  {
   "cell_type": "code",
   "execution_count": 10,
   "id": "16ea129c",
   "metadata": {},
   "outputs": [
    {
     "name": "stdout",
     "output_type": "stream",
     "text": [
      "[[1 3]\n",
      " [4 6]]\n",
      "[[10 30]\n",
      " [40 60]]\n"
     ]
    }
   ],
   "source": [
    "array = np.random.randint(1, 10, size=4).reshape(2, 2)\n",
    "print(array)\n",
    "\n",
    "result_array = array*10\n",
    "print(result_array)"
   ]
  },
  {
   "cell_type": "code",
   "execution_count": 11,
   "id": "4f9a26d5",
   "metadata": {},
   "outputs": [
    {
     "name": "stdout",
     "output_type": "stream",
     "text": [
      "[[0 2]\n",
      " [2 4]]\n"
     ]
    }
   ],
   "source": [
    "array1 = np.arange(4).reshape(2, 2)\n",
    "array2 = np.arange(2)\n",
    "array3 = array1 + array2\n",
    "\n",
    "print(array3)"
   ]
  },
  {
   "cell_type": "code",
   "execution_count": 14,
   "id": "ac850c8e",
   "metadata": {},
   "outputs": [
    {
     "name": "stdout",
     "output_type": "stream",
     "text": [
      "[[0]\n",
      " [1]\n",
      " [2]\n",
      " [3]]\n",
      "[[ 0  1  2  3]\n",
      " [ 5  6  7  8]\n",
      " [ 2  3  4  5]\n",
      " [ 7  8  9 10]]\n"
     ]
    }
   ],
   "source": [
    "array1 = np.arange(8).reshape(2, 4)\n",
    "array2 = np.concatenate([array1, array1], axis=0)\n",
    "array3 = np.arange(4).reshape(4,1)\n",
    "array4 = array2 + array3\n",
    "print(array3)\n",
    "print(array4)"
   ]
  },
  {
   "cell_type": "code",
   "execution_count": 16,
   "id": "177f391c",
   "metadata": {},
   "outputs": [
    {
     "name": "stdout",
     "output_type": "stream",
     "text": [
      "[[100 100 100 100]\n",
      " [100 100 100 100]\n",
      " [100 100  10  11]\n",
      " [ 12  13  14  15]]\n",
      "[[ True  True  True  True]\n",
      " [ True  True  True  True]\n",
      " [ True  True False False]\n",
      " [False False False False]]\n"
     ]
    }
   ],
   "source": [
    "# 마스킹 연산\n",
    "array1 = np.arange(16).reshape(4, 4)\n",
    "array2 = array1 <= 9\n",
    "array3 = array1[array2] = 100\n",
    "print(array1)\n",
    "print(array2)\n",
    "\n"
   ]
  },
  {
   "cell_type": "code",
   "execution_count": 17,
   "id": "b6f8de51",
   "metadata": {},
   "outputs": [
    {
     "name": "stdout",
     "output_type": "stream",
     "text": [
      "[0 1 2 3 4 5 6 7 8 9]\n",
      "[10 11 12 13 14 15 16 17 18 19]\n"
     ]
    }
   ],
   "source": [
    "array1 = np.arange(0, 10)\n",
    "array2 = np.arange(10 ,20)\n",
    "np.savez('saved.npz', array1=array1, array2=array2)\n",
    "\n",
    "data = np.load('saved.npz')\n",
    "result1 = data['array1']\n",
    "result2 = data['array2']\n",
    "print(result1)\n",
    "print(result2)"
   ]
  },
  {
   "cell_type": "code",
   "execution_count": 18,
   "id": "b32ecc1a",
   "metadata": {},
   "outputs": [
    {
     "name": "stdout",
     "output_type": "stream",
     "text": [
      "[[ 5  9 10  3  1]\n",
      " [ 8  3  4  2  5]]\n",
      "[[ 5  3  4  2  1]\n",
      " [ 8  9 10  3  5]]\n"
     ]
    }
   ],
   "source": [
    "array = np.array([[5, 9, 10, 3, 1], [8, 3, 4, 2, 5]])\n",
    "print(array)\n",
    "array.sort(axis=0)\n",
    "print(array)"
   ]
  },
  {
   "cell_type": "code",
   "execution_count": 19,
   "id": "e625f9b7",
   "metadata": {},
   "outputs": [
    {
     "data": {
      "text/plain": [
       "[<matplotlib.lines.Line2D at 0x7f83b12236a0>]"
      ]
     },
     "execution_count": 19,
     "metadata": {},
     "output_type": "execute_result"
    },
    {
     "data": {
      "image/png": "[encoded data removed]",
      "text/plain": [
       "<Figure size 432x288 with 1 Axes>"
      ]
     },
     "metadata": {
      "needs_background": "light"
     },
     "output_type": "display_data"
    }
   ],
   "source": [
    "import matplotlib.pyplot as plt\n",
    "\n",
    "x = [1, 2, 3]\n",
    "y = [1, 2, 3]\n",
    "\n",
    "plt.plot(x, y)"
   ]
  },
  {
   "cell_type": "code",
   "execution_count": 20,
   "id": "6ea39e1d",
   "metadata": {},
   "outputs": [
    {
     "data": {
      "image/png": "[encoded data removed]",
      "text/plain": [
       "<Figure size 432x288 with 2 Axes>"
      ]
     },
     "metadata": {
      "needs_background": "light"
     },
     "output_type": "display_data"
    }
   ],
   "source": [
    "x = np.linspace(0, np.pi*10, 500)\n",
    "fig, axes = plt.subplots(2, 1)\n",
    "axes[0].plot(x, np.sin(x))\n",
    "axes[1].plot(x, np.cos(x))\n",
    "fig.savefig(\"sin&cos.png\")"
   ]
  },
  {
   "cell_type": "code",
   "execution_count": 21,
   "id": "0c03bdd4",
   "metadata": {},
   "outputs": [
    {
     "data": {
      "image/png": "[encoded data removed]",
      "text/plain": [
       "<Figure size 432x288 with 1 Axes>"
      ]
     },
     "metadata": {
      "needs_background": "light"
     },
     "output_type": "display_data"
    }
   ],
   "source": [
    "x = np.arange(-9, 10)\n",
    "y = x ** 2\n",
    "plt.plot(x, y, linestyle=\":\", marker=\"*\")\n",
    "plt.show()"
   ]
  },
  {
   "cell_type": "code",
   "execution_count": 23,
   "id": "5213ef83",
   "metadata": {},
   "outputs": [
    {
     "data": {
      "image/png": "[encoded data removed]",
      "text/plain": [
       "<Figure size 432x288 with 1 Axes>"
      ]
     },
     "metadata": {
      "needs_background": "light"
     },
     "output_type": "display_data"
    }
   ],
   "source": [
    "x = np.arange(-9, 10)\n",
    "y1 = x ** 2\n",
    "y2 = -x\n",
    "plt.plot(x, y1, linestyle='-', marker = \"*\", color='red', label='y=x * x')\n",
    "plt.plot(x, y2, linestyle=':', marker = \"o\", color='blue', label='y=-x')\n",
    "plt.xlabel(\"X\")\n",
    "plt.ylabel(\"Y\")\n",
    "plt.legend(\n",
    "    shadow=True,\n",
    "    borderpad=1\n",
    ")\n",
    "plt.show()"
   ]
  },
  {
   "cell_type": "code",
   "execution_count": 25,
   "id": "1e511f93",
   "metadata": {},
   "outputs": [
    {
     "data": {
      "image/png": "[encoded data removed]",
      "text/plain": [
       "<Figure size 432x288 with 1 Axes>"
      ]
     },
     "metadata": {
      "needs_background": "light"
     },
     "output_type": "display_data"
    }
   ],
   "source": [
    "x = np.random.rand(10)\n",
    "y = np.random.rand(10)\n",
    "z = np.random.rand(10)\n",
    "data = [x, y, z]\n",
    "x_array = np.arange(10)\n",
    "for i in range(0, 3):\n",
    "    plt.bar(\n",
    "    x_array,\n",
    "    data[i],\n",
    "    bottom=np.sum(data[:i], axis=0)\n",
    "    )\n",
    "plt.show()"
   ]
  },
  {
   "cell_type": "code",
   "execution_count": 26,
   "id": "1ac19933",
   "metadata": {},
   "outputs": [
    {
     "data": {
      "image/png": "[encoded data removed]",
      "text/plain": [
       "<Figure size 432x288 with 1 Axes>"
      ]
     },
     "metadata": {
      "needs_background": "light"
     },
     "output_type": "display_data"
    }
   ],
   "source": [
    "x = np.random.rand(10)\n",
    "y = np.random.rand(10)\n",
    "colors = np.random.randint(0, 100, 10)\n",
    "sizes = np.pi * 1000 * np.random.rand(10)\n",
    "plt.scatter(x, y, c=colors, s = sizes, alpha=0.7)\n",
    "plt.show()"
   ]
  },
  {
   "cell_type": "code",
   "execution_count": 27,
   "id": "27406d57",
   "metadata": {},
   "outputs": [],
   "source": [
    "import pandas as pd"
   ]
  },
  {
   "cell_type": "code",
   "execution_count": 28,
   "id": "ba6ea993",
   "metadata": {},
   "outputs": [
    {
     "name": "stdout",
     "output_type": "stream",
     "text": [
      "a     사과\n",
      "b    바나나\n",
      "c     당근\n",
      "dtype: object\n",
      "사과\n"
     ]
    }
   ],
   "source": [
    "array = pd.Series(['사과', '바나나', '당근'], index=['a', 'b', 'c'])\n",
    "print(array)\n",
    "print(array['a'])"
   ]
  },
  {
   "cell_type": "code",
   "execution_count": 30,
   "id": "6e862f86",
   "metadata": {},
   "outputs": [
    {
     "name": "stdout",
     "output_type": "stream",
     "text": [
      "사과\n"
     ]
    }
   ],
   "source": [
    "data = {\n",
    "    'a':'사과',\n",
    "    'b':'바나나',\n",
    "    'c':'당근'\n",
    "}\n",
    "\n",
    "array = pd.Series(data)\n",
    "print(array['a'])"
   ]
  },
  {
   "cell_type": "code",
   "execution_count": 49,
   "id": "39a452fe",
   "metadata": {},
   "outputs": [
    {
     "name": "stdout",
     "output_type": "stream",
     "text": [
      "       word  frequency  importance\n",
      "Banana  바나나        5.0           2\n",
      "Apple    사과        3.0           3\n",
      "Durian  두리안        2.0           1\n",
      "Carrot   당근        NaN           1\n"
     ]
    }
   ],
   "source": [
    "import pandas as pd\n",
    "\n",
    "word_dict = {\n",
    "    'Apple':'사과',\n",
    "    'Banana':'바나나',\n",
    "    'Carrot':'당근',\n",
    "    'Durian':'두리안'\n",
    "}\n",
    "frequency_dict = {\n",
    "    'Apple':3,\n",
    "    'Banana':5,\n",
    "    'Carrot':np.nan,\n",
    "    'Durian':2\n",
    "}\n",
    "importance_dict={\n",
    "    'Apple':3,\n",
    "    'Banana':2,\n",
    "    'Carrot':1,\n",
    "    'Durian':1\n",
    "}\n",
    "\n",
    "word = pd.Series(word_dict)\n",
    "frequency = pd.Series(frequency_dict)\n",
    "importance = pd.Series(importance_dict)\n",
    "\n",
    "summary = pd.DataFrame({\n",
    "    'word':word,\n",
    "    'frequency':frequency,\n",
    "    'importance':importance\n",
    "})\n",
    "\n",
    "summary = summary.sort_values('frequency', ascending=False)\n",
    "print(summary)"
   ]
  },
  {
   "cell_type": "code",
   "execution_count": 45,
   "id": "11e45bc2",
   "metadata": {},
   "outputs": [
    {
     "name": "stdout",
     "output_type": "stream",
     "text": [
      "A    NaN\n",
      "B    6.0\n",
      "C    8.0\n",
      "D    NaN\n",
      "dtype: float64\n"
     ]
    }
   ],
   "source": [
    "array1 = pd.Series([1, 2, 3], index=['A', 'B', 'C'])\n",
    "array2 = pd.Series([4, 5, 6], index=['B', 'C', 'D'])\n",
    "\n",
    "array1 = array1.add(array2)\n",
    "print(array1)"
   ]
  },
  {
   "cell_type": "code",
   "execution_count": 47,
   "id": "e34b0ee1",
   "metadata": {},
   "outputs": [
    {
     "name": "stdout",
     "output_type": "stream",
     "text": [
      "   0  1\n",
      "A  1  2\n",
      "B  3  4\n",
      "   0  1  2\n",
      "B  1  2  3\n",
      "C  4  5  6\n",
      "D  7  8  9\n",
      "     0    1    2\n",
      "A  1.0  2.0  NaN\n",
      "B  4.0  6.0  3.0\n",
      "C  4.0  5.0  6.0\n",
      "D  7.0  8.0  9.0\n",
      "컬럼 1의 합: 21.0\n",
      "0    16.0\n",
      "1    21.0\n",
      "2    18.0\n",
      "dtype: float64\n"
     ]
    }
   ],
   "source": [
    "array1 = pd.DataFrame([[1,2], [3,4]], index=['A', 'B'])\n",
    "array2 = pd.DataFrame([[1, 2, 3], [4, 5, 6], [7, 8, 9]], index=['B', 'C', 'D'])\n",
    "\n",
    "print(array1)\n",
    "print(array2)\n",
    "\n",
    "array1 = array1.add(array2, fill_value=0)\n",
    "print(array1)\n",
    "print(\"컬럼 1의 합:\", array1[1].sum())\n",
    "print(array1.sum())"
   ]
  },
  {
   "cell_type": "code",
   "execution_count": 51,
   "id": "cdbf423f",
   "metadata": {},
   "outputs": [
    {
     "name": "stdout",
     "output_type": "stream",
     "text": [
      "   A  B\n",
      "0  9  8\n",
      "1  4  8\n",
      "0    False\n",
      "1     True\n",
      "Name: A, dtype: bool\n",
      "   A  B\n",
      "1  4  8\n"
     ]
    }
   ],
   "source": [
    "df = pd.DataFrame(np.random.randint(1, 10, (2,2)), index=[0,1], columns=[\"A\", \"B\"])\n",
    "print(df)\n",
    "print(df[\"A\"] <= 5)\n",
    "print(df.query(\"A <= 5 and B <= 8\"))"
   ]
  },
  {
   "cell_type": "code",
   "execution_count": 55,
   "id": "66fbc1dc",
   "metadata": {},
   "outputs": [
    {
     "ename": "ValueError",
     "evalue": "3 columns passed, passed data had 4 columns",
     "output_type": "error",
     "traceback": [
      "\u001b[0;31m---------------------------------------------------------------------------\u001b[0m",
      "\u001b[0;31mAssertionError\u001b[0m                            Traceback (most recent call last)",
      "File \u001b[0;32m~/opt/anaconda3/envs/myml/lib/python3.8/site-packages/pandas/core/internals/construction.py:982\u001b[0m, in \u001b[0;36m_finalize_columns_and_data\u001b[0;34m(content, columns, dtype)\u001b[0m\n\u001b[1;32m    981\u001b[0m \u001b[38;5;28;01mtry\u001b[39;00m:\n\u001b[0;32m--> 982\u001b[0m     columns \u001b[38;5;241m=\u001b[39m \u001b[43m_validate_or_indexify_columns\u001b[49m\u001b[43m(\u001b[49m\u001b[43mcontents\u001b[49m\u001b[43m,\u001b[49m\u001b[43m \u001b[49m\u001b[43mcolumns\u001b[49m\u001b[43m)\u001b[49m\n\u001b[1;32m    983\u001b[0m \u001b[38;5;28;01mexcept\u001b[39;00m \u001b[38;5;167;01mAssertionError\u001b[39;00m \u001b[38;5;28;01mas\u001b[39;00m err:\n\u001b[1;32m    984\u001b[0m     \u001b[38;5;66;03m# GH#26429 do not raise user-facing AssertionError\u001b[39;00m\n",
      "File \u001b[0;32m~/opt/anaconda3/envs/myml/lib/python3.8/site-packages/pandas/core/internals/construction.py:1030\u001b[0m, in \u001b[0;36m_validate_or_indexify_columns\u001b[0;34m(content, columns)\u001b[0m\n\u001b[1;32m   1028\u001b[0m \u001b[38;5;28;01mif\u001b[39;00m \u001b[38;5;129;01mnot\u001b[39;00m is_mi_list \u001b[38;5;129;01mand\u001b[39;00m \u001b[38;5;28mlen\u001b[39m(columns) \u001b[38;5;241m!=\u001b[39m \u001b[38;5;28mlen\u001b[39m(content):  \u001b[38;5;66;03m# pragma: no cover\u001b[39;00m\n\u001b[1;32m   1029\u001b[0m     \u001b[38;5;66;03m# caller's responsibility to check for this...\u001b[39;00m\n\u001b[0;32m-> 1030\u001b[0m     \u001b[38;5;28;01mraise\u001b[39;00m \u001b[38;5;167;01mAssertionError\u001b[39;00m(\n\u001b[1;32m   1031\u001b[0m         \u001b[38;5;124mf\u001b[39m\u001b[38;5;124m\"\u001b[39m\u001b[38;5;132;01m{\u001b[39;00m\u001b[38;5;28mlen\u001b[39m(columns)\u001b[38;5;132;01m}\u001b[39;00m\u001b[38;5;124m columns passed, passed data had \u001b[39m\u001b[38;5;124m\"\u001b[39m\n\u001b[1;32m   1032\u001b[0m         \u001b[38;5;124mf\u001b[39m\u001b[38;5;124m\"\u001b[39m\u001b[38;5;132;01m{\u001b[39;00m\u001b[38;5;28mlen\u001b[39m(content)\u001b[38;5;132;01m}\u001b[39;00m\u001b[38;5;124m columns\u001b[39m\u001b[38;5;124m\"\u001b[39m\n\u001b[1;32m   1033\u001b[0m     )\n\u001b[1;32m   1034\u001b[0m \u001b[38;5;28;01melif\u001b[39;00m is_mi_list:\n\u001b[1;32m   1035\u001b[0m \n\u001b[1;32m   1036\u001b[0m     \u001b[38;5;66;03m# check if nested list column, length of each sub-list should be equal\u001b[39;00m\n",
      "\u001b[0;31mAssertionError\u001b[0m: 3 columns passed, passed data had 4 columns",
      "\nThe above exception was the direct cause of the following exception:\n",
      "\u001b[0;31mValueError\u001b[0m                                Traceback (most recent call last)",
      "Input \u001b[0;32mIn [55]\u001b[0m, in \u001b[0;36m<cell line: 1>\u001b[0;34m()\u001b[0m\n\u001b[0;32m----> 1\u001b[0m df \u001b[38;5;241m=\u001b[39m \u001b[43mpd\u001b[49m\u001b[38;5;241;43m.\u001b[39;49m\u001b[43mDataFrame\u001b[49m\u001b[43m(\u001b[49m\u001b[43m[\u001b[49m\n\u001b[1;32m      2\u001b[0m \u001b[43m    \u001b[49m\u001b[43m[\u001b[49m\u001b[38;5;124;43m'\u001b[39;49m\u001b[38;5;124;43mApple\u001b[39;49m\u001b[38;5;124;43m'\u001b[39;49m\u001b[43m,\u001b[49m\u001b[43m \u001b[49m\u001b[38;5;241;43m7\u001b[39;49m\u001b[43m,\u001b[49m\u001b[43m \u001b[49m\u001b[38;5;241;43m5\u001b[39;49m\u001b[43m,\u001b[49m\u001b[43m \u001b[49m\u001b[38;5;124;43m'\u001b[39;49m\u001b[38;5;124;43mFruit\u001b[39;49m\u001b[38;5;124;43m'\u001b[39;49m\u001b[43m]\u001b[49m\u001b[43m,\u001b[49m\n\u001b[1;32m      3\u001b[0m \u001b[43m    \u001b[49m\u001b[43m[\u001b[49m\u001b[38;5;124;43m'\u001b[39;49m\u001b[38;5;124;43mBanana\u001b[39;49m\u001b[38;5;124;43m'\u001b[39;49m\u001b[43m,\u001b[49m\u001b[43m \u001b[49m\u001b[38;5;241;43m3\u001b[39;49m\u001b[43m,\u001b[49m\u001b[43m \u001b[49m\u001b[38;5;241;43m6\u001b[39;49m\u001b[43m,\u001b[49m\u001b[38;5;124;43m'\u001b[39;49m\u001b[38;5;124;43mFruit\u001b[39;49m\u001b[38;5;124;43m'\u001b[39;49m\u001b[43m]\u001b[49m\u001b[43m,\u001b[49m\n\u001b[1;32m      4\u001b[0m \u001b[43m    \u001b[49m\u001b[43m[\u001b[49m\u001b[38;5;124;43m'\u001b[39;49m\u001b[38;5;124;43mBeef\u001b[39;49m\u001b[38;5;124;43m'\u001b[39;49m\u001b[43m,\u001b[49m\u001b[43m \u001b[49m\u001b[38;5;241;43m5\u001b[39;49m\u001b[43m,\u001b[49m\u001b[43m \u001b[49m\u001b[38;5;241;43m2\u001b[39;49m\u001b[43m,\u001b[49m\u001b[43m \u001b[49m\u001b[38;5;124;43m'\u001b[39;49m\u001b[38;5;124;43mMeal\u001b[39;49m\u001b[38;5;124;43m'\u001b[39;49m\u001b[43m]\u001b[49m\u001b[43m,\u001b[49m\n\u001b[1;32m      5\u001b[0m \u001b[43m    \u001b[49m\u001b[43m[\u001b[49m\u001b[38;5;124;43m'\u001b[39;49m\u001b[38;5;124;43mKimchi\u001b[39;49m\u001b[38;5;124;43m'\u001b[39;49m\u001b[43m,\u001b[49m\u001b[43m \u001b[49m\u001b[38;5;241;43m4\u001b[39;49m\u001b[43m,\u001b[49m\u001b[43m \u001b[49m\u001b[38;5;241;43m8\u001b[39;49m\u001b[43m,\u001b[49m\u001b[43m \u001b[49m\u001b[38;5;124;43m'\u001b[39;49m\u001b[38;5;124;43mMeal\u001b[39;49m\u001b[38;5;124;43m'\u001b[39;49m\u001b[43m]\u001b[49m\u001b[43m]\u001b[49m\u001b[43m,\u001b[49m\n\u001b[1;32m      6\u001b[0m \u001b[43m    \u001b[49m\u001b[43mcolumns\u001b[49m\u001b[38;5;241;43m=\u001b[39;49m\u001b[43m[\u001b[49m\u001b[38;5;124;43m\"\u001b[39;49m\u001b[38;5;124;43mName\u001b[39;49m\u001b[38;5;124;43m\"\u001b[39;49m\u001b[43m,\u001b[49m\u001b[43m \u001b[49m\u001b[38;5;124;43m\"\u001b[39;49m\u001b[38;5;124;43mFrequency\u001b[39;49m\u001b[38;5;124;43m\"\u001b[39;49m\u001b[43m,\u001b[49m\u001b[43m \u001b[49m\u001b[38;5;124;43m\"\u001b[39;49m\u001b[38;5;124;43mImportance\u001b[39;49m\u001b[38;5;124;43m\"\u001b[39;49m\u001b[43m \u001b[49m\u001b[38;5;124;43m\"\u001b[39;49m\u001b[38;5;124;43mType\u001b[39;49m\u001b[38;5;124;43m\"\u001b[39;49m\u001b[43m]\u001b[49m\u001b[43m)\u001b[49m\n\u001b[1;32m      7\u001b[0m \u001b[38;5;28mprint\u001b[39m(df)\n\u001b[1;32m      8\u001b[0m \u001b[38;5;28mprint\u001b[39m(df\u001b[38;5;241m.\u001b[39mgroupby([\u001b[38;5;124m'\u001b[39m\u001b[38;5;124mType\u001b[39m\u001b[38;5;124m'\u001b[39m])\u001b[38;5;241m.\u001b[39maggregate([\u001b[38;5;28mmin\u001b[39m, \u001b[38;5;28mmax\u001b[39m, np\u001b[38;5;241m.\u001b[39maverage]))\n",
      "File \u001b[0;32m~/opt/anaconda3/envs/myml/lib/python3.8/site-packages/pandas/core/frame.py:721\u001b[0m, in \u001b[0;36mDataFrame.__init__\u001b[0;34m(self, data, index, columns, dtype, copy)\u001b[0m\n\u001b[1;32m    716\u001b[0m     \u001b[38;5;28;01mif\u001b[39;00m columns \u001b[38;5;129;01mis\u001b[39;00m \u001b[38;5;129;01mnot\u001b[39;00m \u001b[38;5;28;01mNone\u001b[39;00m:\n\u001b[1;32m    717\u001b[0m         \u001b[38;5;66;03m# error: Argument 1 to \"ensure_index\" has incompatible type\u001b[39;00m\n\u001b[1;32m    718\u001b[0m         \u001b[38;5;66;03m# \"Collection[Any]\"; expected \"Union[Union[Union[ExtensionArray,\u001b[39;00m\n\u001b[1;32m    719\u001b[0m         \u001b[38;5;66;03m# ndarray], Index, Series], Sequence[Any]]\"\u001b[39;00m\n\u001b[1;32m    720\u001b[0m         columns \u001b[38;5;241m=\u001b[39m ensure_index(columns)  \u001b[38;5;66;03m# type: ignore[arg-type]\u001b[39;00m\n\u001b[0;32m--> 721\u001b[0m     arrays, columns, index \u001b[38;5;241m=\u001b[39m \u001b[43mnested_data_to_arrays\u001b[49m\u001b[43m(\u001b[49m\n\u001b[1;32m    722\u001b[0m \u001b[43m        \u001b[49m\u001b[38;5;66;43;03m# error: Argument 3 to \"nested_data_to_arrays\" has incompatible\u001b[39;49;00m\n\u001b[1;32m    723\u001b[0m \u001b[43m        \u001b[49m\u001b[38;5;66;43;03m# type \"Optional[Collection[Any]]\"; expected \"Optional[Index]\"\u001b[39;49;00m\n\u001b[1;32m    724\u001b[0m \u001b[43m        \u001b[49m\u001b[43mdata\u001b[49m\u001b[43m,\u001b[49m\n\u001b[1;32m    725\u001b[0m \u001b[43m        \u001b[49m\u001b[43mcolumns\u001b[49m\u001b[43m,\u001b[49m\n\u001b[1;32m    726\u001b[0m \u001b[43m        \u001b[49m\u001b[43mindex\u001b[49m\u001b[43m,\u001b[49m\u001b[43m  \u001b[49m\u001b[38;5;66;43;03m# type: ignore[arg-type]\u001b[39;49;00m\n\u001b[1;32m    727\u001b[0m \u001b[43m        \u001b[49m\u001b[43mdtype\u001b[49m\u001b[43m,\u001b[49m\n\u001b[1;32m    728\u001b[0m \u001b[43m    \u001b[49m\u001b[43m)\u001b[49m\n\u001b[1;32m    729\u001b[0m     mgr \u001b[38;5;241m=\u001b[39m arrays_to_mgr(\n\u001b[1;32m    730\u001b[0m         arrays,\n\u001b[1;32m    731\u001b[0m         columns,\n\u001b[0;32m   (...)\u001b[0m\n\u001b[1;32m    734\u001b[0m         typ\u001b[38;5;241m=\u001b[39mmanager,\n\u001b[1;32m    735\u001b[0m     )\n\u001b[1;32m    736\u001b[0m \u001b[38;5;28;01melse\u001b[39;00m:\n",
      "File \u001b[0;32m~/opt/anaconda3/envs/myml/lib/python3.8/site-packages/pandas/core/internals/construction.py:519\u001b[0m, in \u001b[0;36mnested_data_to_arrays\u001b[0;34m(data, columns, index, dtype)\u001b[0m\n\u001b[1;32m    516\u001b[0m \u001b[38;5;28;01mif\u001b[39;00m is_named_tuple(data[\u001b[38;5;241m0\u001b[39m]) \u001b[38;5;129;01mand\u001b[39;00m columns \u001b[38;5;129;01mis\u001b[39;00m \u001b[38;5;28;01mNone\u001b[39;00m:\n\u001b[1;32m    517\u001b[0m     columns \u001b[38;5;241m=\u001b[39m ensure_index(data[\u001b[38;5;241m0\u001b[39m]\u001b[38;5;241m.\u001b[39m_fields)\n\u001b[0;32m--> 519\u001b[0m arrays, columns \u001b[38;5;241m=\u001b[39m \u001b[43mto_arrays\u001b[49m\u001b[43m(\u001b[49m\u001b[43mdata\u001b[49m\u001b[43m,\u001b[49m\u001b[43m \u001b[49m\u001b[43mcolumns\u001b[49m\u001b[43m,\u001b[49m\u001b[43m \u001b[49m\u001b[43mdtype\u001b[49m\u001b[38;5;241;43m=\u001b[39;49m\u001b[43mdtype\u001b[49m\u001b[43m)\u001b[49m\n\u001b[1;32m    520\u001b[0m columns \u001b[38;5;241m=\u001b[39m ensure_index(columns)\n\u001b[1;32m    522\u001b[0m \u001b[38;5;28;01mif\u001b[39;00m index \u001b[38;5;129;01mis\u001b[39;00m \u001b[38;5;28;01mNone\u001b[39;00m:\n",
      "File \u001b[0;32m~/opt/anaconda3/envs/myml/lib/python3.8/site-packages/pandas/core/internals/construction.py:883\u001b[0m, in \u001b[0;36mto_arrays\u001b[0;34m(data, columns, dtype)\u001b[0m\n\u001b[1;32m    880\u001b[0m     data \u001b[38;5;241m=\u001b[39m [\u001b[38;5;28mtuple\u001b[39m(x) \u001b[38;5;28;01mfor\u001b[39;00m x \u001b[38;5;129;01min\u001b[39;00m data]\n\u001b[1;32m    881\u001b[0m     arr \u001b[38;5;241m=\u001b[39m _list_to_arrays(data)\n\u001b[0;32m--> 883\u001b[0m content, columns \u001b[38;5;241m=\u001b[39m \u001b[43m_finalize_columns_and_data\u001b[49m\u001b[43m(\u001b[49m\u001b[43marr\u001b[49m\u001b[43m,\u001b[49m\u001b[43m \u001b[49m\u001b[43mcolumns\u001b[49m\u001b[43m,\u001b[49m\u001b[43m \u001b[49m\u001b[43mdtype\u001b[49m\u001b[43m)\u001b[49m\n\u001b[1;32m    884\u001b[0m \u001b[38;5;28;01mreturn\u001b[39;00m content, columns\n",
      "File \u001b[0;32m~/opt/anaconda3/envs/myml/lib/python3.8/site-packages/pandas/core/internals/construction.py:985\u001b[0m, in \u001b[0;36m_finalize_columns_and_data\u001b[0;34m(content, columns, dtype)\u001b[0m\n\u001b[1;32m    982\u001b[0m     columns \u001b[38;5;241m=\u001b[39m _validate_or_indexify_columns(contents, columns)\n\u001b[1;32m    983\u001b[0m \u001b[38;5;28;01mexcept\u001b[39;00m \u001b[38;5;167;01mAssertionError\u001b[39;00m \u001b[38;5;28;01mas\u001b[39;00m err:\n\u001b[1;32m    984\u001b[0m     \u001b[38;5;66;03m# GH#26429 do not raise user-facing AssertionError\u001b[39;00m\n\u001b[0;32m--> 985\u001b[0m     \u001b[38;5;28;01mraise\u001b[39;00m \u001b[38;5;167;01mValueError\u001b[39;00m(err) \u001b[38;5;28;01mfrom\u001b[39;00m \u001b[38;5;21;01merr\u001b[39;00m\n\u001b[1;32m    987\u001b[0m \u001b[38;5;28;01mif\u001b[39;00m \u001b[38;5;28mlen\u001b[39m(contents) \u001b[38;5;129;01mand\u001b[39;00m contents[\u001b[38;5;241m0\u001b[39m]\u001b[38;5;241m.\u001b[39mdtype \u001b[38;5;241m==\u001b[39m np\u001b[38;5;241m.\u001b[39mobject_:\n\u001b[1;32m    988\u001b[0m     contents \u001b[38;5;241m=\u001b[39m _convert_object_array(contents, dtype\u001b[38;5;241m=\u001b[39mdtype)\n",
      "\u001b[0;31mValueError\u001b[0m: 3 columns passed, passed data had 4 columns"
     ]
    }
   ],
   "source": [
    "df = pd.DataFrame([\n",
    "    ['Apple', 7, 5, 'Fruit'],\n",
    "    ['Banana', 3, 6,'Fruit'],\n",
    "    ['Beef', 5, 2, 'Meal'],\n",
    "    ['Kimchi', 4, 8, 'Meal']],\n",
    "    columns=[\"Name\", \"Frequency\", \"Importance\" \"Type\"])\n",
    "print(df)\n",
    "print(df.groupby(['Type']).aggregate([min, max, np.average]))"
   ]
  },
  {
   "cell_type": "code",
   "execution_count": 56,
   "id": "7ed47654",
   "metadata": {},
   "outputs": [
    {
     "name": "stdout",
     "output_type": "stream",
     "text": [
      "[3, 6, 5, 9, 3, 0, 2, 5, 7, 5]\n",
      "0\n"
     ]
    },
    {
     "ename": "UFuncTypeError",
     "evalue": "ufunc 'subtract' did not contain a loop with signature matching types (dtype('<U30'), dtype('int64')) -> None",
     "output_type": "error",
     "traceback": [
      "\u001b[0;31m---------------------------------------------------------------------------\u001b[0m",
      "\u001b[0;31mUFuncTypeError\u001b[0m                            Traceback (most recent call last)",
      "Input \u001b[0;32mIn [56]\u001b[0m, in \u001b[0;36m<cell line: 3>\u001b[0;34m()\u001b[0m\n\u001b[1;32m      1\u001b[0m array \u001b[38;5;241m=\u001b[39m np\u001b[38;5;241m.\u001b[39marray(\u001b[38;5;28minput\u001b[39m())\n\u001b[1;32m      2\u001b[0m n \u001b[38;5;241m=\u001b[39m \u001b[38;5;28mint\u001b[39m(\u001b[38;5;28minput\u001b[39m())\n\u001b[0;32m----> 3\u001b[0m resultArr \u001b[38;5;241m=\u001b[39m \u001b[43marray\u001b[49m\u001b[43m \u001b[49m\u001b[38;5;241;43m-\u001b[39;49m\u001b[43m \u001b[49m\u001b[43mn\u001b[49m\n\u001b[1;32m      4\u001b[0m \u001b[38;5;28mprint\u001b[39m(np\u001b[38;5;241m.\u001b[39margmin(resultArr))\n",
      "\u001b[0;31mUFuncTypeError\u001b[0m: ufunc 'subtract' did not contain a loop with signature matching types (dtype('<U30'), dtype('int64')) -> None"
     ]
    }
   ],
   "source": [
    "array = np.array(input())\n",
    "n = int(input())\n",
    "resultArr = array - n\n",
    "print(np.argmin(resultArr))"
   ]
  },
  {
   "cell_type": "code",
   "execution_count": 58,
   "id": "42408beb",
   "metadata": {},
   "outputs": [
    {
     "name": "stdout",
     "output_type": "stream",
     "text": [
      "   age     sex     bmi  children     smoker      charges\n",
      "0   19  female  27.900         0  southwest  16884.92400\n",
      "1   18    male  33.770         1  southwest   1725.55230\n",
      "2   28    male  33.000         3  southwest   4449.46200\n",
      "3   33    male  22.705         0  northwest  21984.47061\n",
      "4   32    male  28.880         0  northwest   3866.85520\n"
     ]
    }
   ],
   "source": [
    "age = [19 ,18, 28, 33, 32]\n",
    "sex = ['female', 'male', 'male', 'male', 'male']\n",
    "bmi = [27.900, 33.770, 33.000, 22.705, 28.880]\n",
    "children = [0, 1, 3, 0, 0]\n",
    "smoker = ['yes', 'no', 'no', 'no', 'no']\n",
    "region = ['southwest', 'southwest','southwest','northwest', 'northwest']\n",
    "charges = [16884.92400, 1725.55230, 4449.46200, 21984.47061, 3866.85520]\n",
    "\n",
    "df = pd.DataFrame({\n",
    "    'age':age,\n",
    "    'sex':sex,\n",
    "    'bmi':bmi,\n",
    "    'children':children,\n",
    "    'smoker':region,\n",
    "    'charges':charges\n",
    "})\n",
    "\n",
    "print(df)\n",
    "df.to_csv(\"test_df.csv\", encoding = \"utf-8-sig\")"
   ]
  },
  {
   "cell_type": "code",
   "execution_count": null,
   "id": "fa9c683e",
   "metadata": {},
   "outputs": [],
   "source": []
  }
 ],
 "metadata": {
  "kernelspec": {
   "display_name": "Python 3 (ipykernel)",
   "language": "python",
   "name": "python3"
  },
  "language_info": {
   "codemirror_mode": {
    "name": "ipython",
    "version": 3
   },
   "file_extension": ".py",
   "mimetype": "text/x-python",
   "name": "python",
   "nbconvert_exporter": "python",
   "pygments_lexer": "ipython3",
   "version": "3.8.0"
  }
 },
 "nbformat": 4,
 "nbformat_minor": 5
}
