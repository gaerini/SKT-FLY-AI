{
 "cells": [
  {
   "cell_type": "markdown",
   "id": "95859da1-024b-4f0b-b98b-3e48ba777935",
   "metadata": {},
   "source": [
    "# LSTM\n",
    "___"
   ]
  },
  {
   "cell_type": "code",
   "execution_count": 1,
   "id": "167dd015-1006-4ff3-9e9c-c5924d945121",
   "metadata": {},
   "outputs": [],
   "source": [
    "import numpy as np\n",
    "import pandas as pd\n",
    "import matplotlib.pyplot as plt"
   ]
  },
  {
   "cell_type": "markdown",
   "id": "39e43501-fa34-46a3-b12e-f2027b40673c",
   "metadata": {},
   "source": [
    "## 단층 LSTM"
   ]
  },
  {
   "cell_type": "code",
   "execution_count": 2,
   "id": "c941aabd-2463-4028-a5ed-e2c4f31268db",
   "metadata": {},
   "outputs": [],
   "source": [
    "df = pd.read_csv(\"./datasets/005930.KS.csv\")"
   ]
  },
  {
   "cell_type": "code",
   "execution_count": 3,
   "id": "b8ab74dc-a70d-4ea4-ad9e-9abe2542ab73",
   "metadata": {},
   "outputs": [
    {
     "data": {
      "text/plain": [
       "(5675, 7)"
      ]
     },
     "execution_count": 3,
     "metadata": {},
     "output_type": "execute_result"
    }
   ],
   "source": [
    "df.shape"
   ]
  },
  {
   "cell_type": "code",
   "execution_count": 4,
   "id": "ef0fd2d3-d2c1-40f5-91b2-edc156e91c30",
   "metadata": {},
   "outputs": [
    {
     "name": "stdout",
     "output_type": "stream",
     "text": [
      "<class 'pandas.core.frame.DataFrame'>\n",
      "RangeIndex: 5675 entries, 0 to 5674\n",
      "Data columns (total 7 columns):\n",
      " #   Column     Non-Null Count  Dtype  \n",
      "---  ------     --------------  -----  \n",
      " 0   Date       5675 non-null   object \n",
      " 1   Open       5675 non-null   float64\n",
      " 2   High       5675 non-null   float64\n",
      " 3   Low        5675 non-null   float64\n",
      " 4   Close      5675 non-null   float64\n",
      " 5   Adj Close  5675 non-null   float64\n",
      " 6   Volume     5675 non-null   int64  \n",
      "dtypes: float64(5), int64(1), object(1)\n",
      "memory usage: 310.5+ KB\n"
     ]
    }
   ],
   "source": [
    "df.info()"
   ]
  },
  {
   "cell_type": "code",
   "execution_count": 5,
   "id": "e99883da-eb2d-4f02-b6fe-e168cbfc4d61",
   "metadata": {},
   "outputs": [],
   "source": [
    "# 이동평균\n",
    "\n",
    "#3평선\n",
    "ma3 = df[\"Adj Close\"].rolling(window=3).mean()"
   ]
  },
  {
   "cell_type": "code",
   "execution_count": 6,
   "id": "8a100703-25d6-4cd2-8f50-dd5cbc237343",
   "metadata": {},
   "outputs": [],
   "source": [
    "#5평선\n",
    "ma5 = df[\"Adj Close\"].rolling(window=5).mean()"
   ]
  },
  {
   "cell_type": "code",
   "execution_count": 7,
   "id": "405823c9-14ac-420e-9296-63135d186ddd",
   "metadata": {},
   "outputs": [],
   "source": [
    "df['3MA'] = ma3\n",
    "df['5MA'] = ma5"
   ]
  },
  {
   "cell_type": "code",
   "execution_count": 8,
   "id": "20c2eebd-d10a-4cb1-b1b1-a0725c043cba",
   "metadata": {},
   "outputs": [
    {
     "data": {
      "text/html": [
       "<div>\n",
       "<style scoped>\n",
       "    .dataframe tbody tr th:only-of-type {\n",
       "        vertical-align: middle;\n",
       "    }\n",
       "\n",
       "    .dataframe tbody tr th {\n",
       "        vertical-align: top;\n",
       "    }\n",
       "\n",
       "    .dataframe thead th {\n",
       "        text-align: right;\n",
       "    }\n",
       "</style>\n",
       "<table border=\"1\" class=\"dataframe\">\n",
       "  <thead>\n",
       "    <tr style=\"text-align: right;\">\n",
       "      <th></th>\n",
       "      <th>Date</th>\n",
       "      <th>Open</th>\n",
       "      <th>High</th>\n",
       "      <th>Low</th>\n",
       "      <th>Close</th>\n",
       "      <th>Adj Close</th>\n",
       "      <th>Volume</th>\n",
       "      <th>3MA</th>\n",
       "      <th>5MA</th>\n",
       "    </tr>\n",
       "  </thead>\n",
       "  <tbody>\n",
       "    <tr>\n",
       "      <th>0</th>\n",
       "      <td>2000-01-04</td>\n",
       "      <td>6000.0</td>\n",
       "      <td>6110.0</td>\n",
       "      <td>5660.0</td>\n",
       "      <td>6110.0</td>\n",
       "      <td>4623.467285</td>\n",
       "      <td>74195000</td>\n",
       "      <td>NaN</td>\n",
       "      <td>NaN</td>\n",
       "    </tr>\n",
       "    <tr>\n",
       "      <th>1</th>\n",
       "      <td>2000-01-05</td>\n",
       "      <td>5800.0</td>\n",
       "      <td>6060.0</td>\n",
       "      <td>5520.0</td>\n",
       "      <td>5580.0</td>\n",
       "      <td>4222.413086</td>\n",
       "      <td>74680000</td>\n",
       "      <td>NaN</td>\n",
       "      <td>NaN</td>\n",
       "    </tr>\n",
       "    <tr>\n",
       "      <th>2</th>\n",
       "      <td>2000-01-06</td>\n",
       "      <td>5750.0</td>\n",
       "      <td>5780.0</td>\n",
       "      <td>5580.0</td>\n",
       "      <td>5620.0</td>\n",
       "      <td>4252.682129</td>\n",
       "      <td>54390000</td>\n",
       "      <td>4366.187500</td>\n",
       "      <td>NaN</td>\n",
       "    </tr>\n",
       "    <tr>\n",
       "      <th>3</th>\n",
       "      <td>2000-01-07</td>\n",
       "      <td>5560.0</td>\n",
       "      <td>5670.0</td>\n",
       "      <td>5360.0</td>\n",
       "      <td>5540.0</td>\n",
       "      <td>4192.144531</td>\n",
       "      <td>40305000</td>\n",
       "      <td>4222.413249</td>\n",
       "      <td>NaN</td>\n",
       "    </tr>\n",
       "    <tr>\n",
       "      <th>4</th>\n",
       "      <td>2000-01-10</td>\n",
       "      <td>5600.0</td>\n",
       "      <td>5770.0</td>\n",
       "      <td>5580.0</td>\n",
       "      <td>5770.0</td>\n",
       "      <td>4366.186523</td>\n",
       "      <td>46880000</td>\n",
       "      <td>4270.337728</td>\n",
       "      <td>4331.378711</td>\n",
       "    </tr>\n",
       "  </tbody>\n",
       "</table>\n",
       "</div>"
      ],
      "text/plain": [
       "         Date    Open    High     Low   Close    Adj Close    Volume  \\\n",
       "0  2000-01-04  6000.0  6110.0  5660.0  6110.0  4623.467285  74195000   \n",
       "1  2000-01-05  5800.0  6060.0  5520.0  5580.0  4222.413086  74680000   \n",
       "2  2000-01-06  5750.0  5780.0  5580.0  5620.0  4252.682129  54390000   \n",
       "3  2000-01-07  5560.0  5670.0  5360.0  5540.0  4192.144531  40305000   \n",
       "4  2000-01-10  5600.0  5770.0  5580.0  5770.0  4366.186523  46880000   \n",
       "\n",
       "           3MA          5MA  \n",
       "0          NaN          NaN  \n",
       "1          NaN          NaN  \n",
       "2  4366.187500          NaN  \n",
       "3  4222.413249          NaN  \n",
       "4  4270.337728  4331.378711  "
      ]
     },
     "execution_count": 8,
     "metadata": {},
     "output_type": "execute_result"
    }
   ],
   "source": [
    "df.head()"
   ]
  },
  {
   "cell_type": "code",
   "execution_count": 9,
   "id": "d773ea56-6fa9-4898-a404-cfe418706af8",
   "metadata": {},
   "outputs": [],
   "source": [
    "df['MID'] = (df['High'] + df['Low'])/2"
   ]
  },
  {
   "cell_type": "code",
   "execution_count": 10,
   "id": "8b44d54a-88c1-4d68-b9b8-76cf3ca5651d",
   "metadata": {},
   "outputs": [
    {
     "data": {
      "text/html": [
       "<div>\n",
       "<style scoped>\n",
       "    .dataframe tbody tr th:only-of-type {\n",
       "        vertical-align: middle;\n",
       "    }\n",
       "\n",
       "    .dataframe tbody tr th {\n",
       "        vertical-align: top;\n",
       "    }\n",
       "\n",
       "    .dataframe thead th {\n",
       "        text-align: right;\n",
       "    }\n",
       "</style>\n",
       "<table border=\"1\" class=\"dataframe\">\n",
       "  <thead>\n",
       "    <tr style=\"text-align: right;\">\n",
       "      <th></th>\n",
       "      <th>Date</th>\n",
       "      <th>Open</th>\n",
       "      <th>High</th>\n",
       "      <th>Low</th>\n",
       "      <th>Close</th>\n",
       "      <th>Adj Close</th>\n",
       "      <th>Volume</th>\n",
       "      <th>3MA</th>\n",
       "      <th>5MA</th>\n",
       "      <th>MID</th>\n",
       "    </tr>\n",
       "  </thead>\n",
       "  <tbody>\n",
       "    <tr>\n",
       "      <th>0</th>\n",
       "      <td>2000-01-04</td>\n",
       "      <td>6000.0</td>\n",
       "      <td>6110.0</td>\n",
       "      <td>5660.0</td>\n",
       "      <td>6110.0</td>\n",
       "      <td>4623.467285</td>\n",
       "      <td>74195000</td>\n",
       "      <td>NaN</td>\n",
       "      <td>NaN</td>\n",
       "      <td>5885.0</td>\n",
       "    </tr>\n",
       "    <tr>\n",
       "      <th>1</th>\n",
       "      <td>2000-01-05</td>\n",
       "      <td>5800.0</td>\n",
       "      <td>6060.0</td>\n",
       "      <td>5520.0</td>\n",
       "      <td>5580.0</td>\n",
       "      <td>4222.413086</td>\n",
       "      <td>74680000</td>\n",
       "      <td>NaN</td>\n",
       "      <td>NaN</td>\n",
       "      <td>5790.0</td>\n",
       "    </tr>\n",
       "    <tr>\n",
       "      <th>2</th>\n",
       "      <td>2000-01-06</td>\n",
       "      <td>5750.0</td>\n",
       "      <td>5780.0</td>\n",
       "      <td>5580.0</td>\n",
       "      <td>5620.0</td>\n",
       "      <td>4252.682129</td>\n",
       "      <td>54390000</td>\n",
       "      <td>4366.187500</td>\n",
       "      <td>NaN</td>\n",
       "      <td>5680.0</td>\n",
       "    </tr>\n",
       "    <tr>\n",
       "      <th>3</th>\n",
       "      <td>2000-01-07</td>\n",
       "      <td>5560.0</td>\n",
       "      <td>5670.0</td>\n",
       "      <td>5360.0</td>\n",
       "      <td>5540.0</td>\n",
       "      <td>4192.144531</td>\n",
       "      <td>40305000</td>\n",
       "      <td>4222.413249</td>\n",
       "      <td>NaN</td>\n",
       "      <td>5515.0</td>\n",
       "    </tr>\n",
       "    <tr>\n",
       "      <th>4</th>\n",
       "      <td>2000-01-10</td>\n",
       "      <td>5600.0</td>\n",
       "      <td>5770.0</td>\n",
       "      <td>5580.0</td>\n",
       "      <td>5770.0</td>\n",
       "      <td>4366.186523</td>\n",
       "      <td>46880000</td>\n",
       "      <td>4270.337728</td>\n",
       "      <td>4331.378711</td>\n",
       "      <td>5675.0</td>\n",
       "    </tr>\n",
       "  </tbody>\n",
       "</table>\n",
       "</div>"
      ],
      "text/plain": [
       "         Date    Open    High     Low   Close    Adj Close    Volume  \\\n",
       "0  2000-01-04  6000.0  6110.0  5660.0  6110.0  4623.467285  74195000   \n",
       "1  2000-01-05  5800.0  6060.0  5520.0  5580.0  4222.413086  74680000   \n",
       "2  2000-01-06  5750.0  5780.0  5580.0  5620.0  4252.682129  54390000   \n",
       "3  2000-01-07  5560.0  5670.0  5360.0  5540.0  4192.144531  40305000   \n",
       "4  2000-01-10  5600.0  5770.0  5580.0  5770.0  4366.186523  46880000   \n",
       "\n",
       "           3MA          5MA     MID  \n",
       "0          NaN          NaN  5885.0  \n",
       "1          NaN          NaN  5790.0  \n",
       "2  4366.187500          NaN  5680.0  \n",
       "3  4222.413249          NaN  5515.0  \n",
       "4  4270.337728  4331.378711  5675.0  "
      ]
     },
     "execution_count": 10,
     "metadata": {},
     "output_type": "execute_result"
    }
   ],
   "source": [
    "df.head()"
   ]
  },
  {
   "cell_type": "markdown",
   "id": "6f439432-5aa9-40db-ba45-07f5d8b7c5fe",
   "metadata": {},
   "source": [
    "## 시각화"
   ]
  },
  {
   "cell_type": "code",
   "execution_count": 11,
   "id": "ae30e9c8-f571-4f98-8377-252b99f5ab07",
   "metadata": {},
   "outputs": [
    {
     "data": {
      "image/png": "[encoded data removed]",
      "text/plain": [
       "<Figure size 720x504 with 1 Axes>"
      ]
     },
     "metadata": {
      "needs_background": "light"
     },
     "output_type": "display_data"
    }
   ],
   "source": [
    "plt.figure(figsize=(10,7))\n",
    "plt.plot(df['Adj Close'])\n",
    "plt.show()"
   ]
  },
  {
   "cell_type": "code",
   "execution_count": 12,
   "id": "7de863ad-35e7-4e84-8861-e3f7acb382f7",
   "metadata": {},
   "outputs": [
    {
     "data": {
      "text/plain": [
       "Date         0\n",
       "Open         0\n",
       "High         0\n",
       "Low          0\n",
       "Close        0\n",
       "Adj Close    0\n",
       "Volume       0\n",
       "3MA          2\n",
       "5MA          4\n",
       "MID          0\n",
       "dtype: int64"
      ]
     },
     "execution_count": 12,
     "metadata": {},
     "output_type": "execute_result"
    }
   ],
   "source": [
    "# 결손치\n",
    "\n",
    "df.isna().sum(axis=0)"
   ]
  },
  {
   "cell_type": "code",
   "execution_count": 13,
   "id": "8ff3a10c-47a1-4d57-bdea-53a99ed8ffbf",
   "metadata": {},
   "outputs": [
    {
     "name": "stdout",
     "output_type": "stream",
     "text": [
      "Date :0\n",
      "Open :0\n",
      "High :0\n",
      "Low :0\n",
      "Close :0\n",
      "Adj Close :0\n",
      "Volume :127\n",
      "3MA :0\n",
      "5MA :0\n",
      "MID :0\n"
     ]
    }
   ],
   "source": [
    "for col in df.columns:\n",
    "    missing_rows = df.loc[df[col]==0,:].shape[0] #각 칼럼에 0이 몇개 있는지 조사\n",
    "    print(col + \" :\" + str(missing_rows))"
   ]
  },
  {
   "cell_type": "code",
   "execution_count": 14,
   "id": "ceadc521-a452-4b0b-870b-6a999319c8ed",
   "metadata": {},
   "outputs": [
    {
     "data": {
      "text/html": [
       "<div>\n",
       "<style scoped>\n",
       "    .dataframe tbody tr th:only-of-type {\n",
       "        vertical-align: middle;\n",
       "    }\n",
       "\n",
       "    .dataframe tbody tr th {\n",
       "        vertical-align: top;\n",
       "    }\n",
       "\n",
       "    .dataframe thead th {\n",
       "        text-align: right;\n",
       "    }\n",
       "</style>\n",
       "<table border=\"1\" class=\"dataframe\">\n",
       "  <thead>\n",
       "    <tr style=\"text-align: right;\">\n",
       "      <th></th>\n",
       "      <th>Date</th>\n",
       "      <th>Open</th>\n",
       "      <th>High</th>\n",
       "      <th>Low</th>\n",
       "      <th>Close</th>\n",
       "      <th>Adj Close</th>\n",
       "      <th>Volume</th>\n",
       "      <th>3MA</th>\n",
       "      <th>5MA</th>\n",
       "      <th>MID</th>\n",
       "    </tr>\n",
       "  </thead>\n",
       "  <tbody>\n",
       "    <tr>\n",
       "      <th>23</th>\n",
       "      <td>2000-02-04</td>\n",
       "      <td>5130.0</td>\n",
       "      <td>5130.0</td>\n",
       "      <td>5130.0</td>\n",
       "      <td>5130.0</td>\n",
       "      <td>3881.895752</td>\n",
       "      <td>0</td>\n",
       "      <td>3912.164063</td>\n",
       "      <td>3996.914844</td>\n",
       "      <td>5130.0</td>\n",
       "    </tr>\n",
       "    <tr>\n",
       "      <th>41</th>\n",
       "      <td>2000-03-01</td>\n",
       "      <td>5120.0</td>\n",
       "      <td>5120.0</td>\n",
       "      <td>5120.0</td>\n",
       "      <td>5120.0</td>\n",
       "      <td>3874.329834</td>\n",
       "      <td>0</td>\n",
       "      <td>3793.614502</td>\n",
       "      <td>3818.333643</td>\n",
       "      <td>5120.0</td>\n",
       "    </tr>\n",
       "    <tr>\n",
       "      <th>66</th>\n",
       "      <td>2000-04-05</td>\n",
       "      <td>6800.0</td>\n",
       "      <td>6800.0</td>\n",
       "      <td>6800.0</td>\n",
       "      <td>6800.0</td>\n",
       "      <td>5145.594238</td>\n",
       "      <td>0</td>\n",
       "      <td>5221.264485</td>\n",
       "      <td>5213.697265</td>\n",
       "      <td>6800.0</td>\n",
       "    </tr>\n",
       "    <tr>\n",
       "      <th>72</th>\n",
       "      <td>2000-04-13</td>\n",
       "      <td>6910.0</td>\n",
       "      <td>6910.0</td>\n",
       "      <td>6910.0</td>\n",
       "      <td>6910.0</td>\n",
       "      <td>5228.832520</td>\n",
       "      <td>0</td>\n",
       "      <td>5276.756673</td>\n",
       "      <td>5360.498340</td>\n",
       "      <td>6910.0</td>\n",
       "    </tr>\n",
       "    <tr>\n",
       "      <th>84</th>\n",
       "      <td>2000-05-01</td>\n",
       "      <td>6000.0</td>\n",
       "      <td>6000.0</td>\n",
       "      <td>6000.0</td>\n",
       "      <td>6000.0</td>\n",
       "      <td>4540.229980</td>\n",
       "      <td>0</td>\n",
       "      <td>4388.888753</td>\n",
       "      <td>4334.406689</td>\n",
       "      <td>6000.0</td>\n",
       "    </tr>\n",
       "    <tr>\n",
       "      <th>...</th>\n",
       "      <td>...</td>\n",
       "      <td>...</td>\n",
       "      <td>...</td>\n",
       "      <td>...</td>\n",
       "      <td>...</td>\n",
       "      <td>...</td>\n",
       "      <td>...</td>\n",
       "      <td>...</td>\n",
       "      <td>...</td>\n",
       "      <td>...</td>\n",
       "    </tr>\n",
       "    <tr>\n",
       "      <th>5564</th>\n",
       "      <td>2022-02-28</td>\n",
       "      <td>71900.0</td>\n",
       "      <td>71900.0</td>\n",
       "      <td>71900.0</td>\n",
       "      <td>71900.0</td>\n",
       "      <td>71095.539063</td>\n",
       "      <td>0</td>\n",
       "      <td>70963.695313</td>\n",
       "      <td>71965.689063</td>\n",
       "      <td>71900.0</td>\n",
       "    </tr>\n",
       "    <tr>\n",
       "      <th>5567</th>\n",
       "      <td>2022-03-04</td>\n",
       "      <td>72900.0</td>\n",
       "      <td>72900.0</td>\n",
       "      <td>72900.0</td>\n",
       "      <td>72900.0</td>\n",
       "      <td>72084.343750</td>\n",
       "      <td>0</td>\n",
       "      <td>71688.817708</td>\n",
       "      <td>71451.506250</td>\n",
       "      <td>72900.0</td>\n",
       "    </tr>\n",
       "    <tr>\n",
       "      <th>5570</th>\n",
       "      <td>2022-03-10</td>\n",
       "      <td>69500.0</td>\n",
       "      <td>69500.0</td>\n",
       "      <td>69500.0</td>\n",
       "      <td>69500.0</td>\n",
       "      <td>68722.390625</td>\n",
       "      <td>0</td>\n",
       "      <td>68920.151042</td>\n",
       "      <td>70185.828125</td>\n",
       "      <td>69500.0</td>\n",
       "    </tr>\n",
       "    <tr>\n",
       "      <th>5573</th>\n",
       "      <td>2022-03-15</td>\n",
       "      <td>70200.0</td>\n",
       "      <td>70200.0</td>\n",
       "      <td>70200.0</td>\n",
       "      <td>70200.0</td>\n",
       "      <td>69414.554688</td>\n",
       "      <td>0</td>\n",
       "      <td>69348.635417</td>\n",
       "      <td>69098.137500</td>\n",
       "      <td>70200.0</td>\n",
       "    </tr>\n",
       "    <tr>\n",
       "      <th>5575</th>\n",
       "      <td>2022-03-17</td>\n",
       "      <td>70400.0</td>\n",
       "      <td>70400.0</td>\n",
       "      <td>70400.0</td>\n",
       "      <td>70400.0</td>\n",
       "      <td>69612.320313</td>\n",
       "      <td>0</td>\n",
       "      <td>69546.398438</td>\n",
       "      <td>69454.109375</td>\n",
       "      <td>70400.0</td>\n",
       "    </tr>\n",
       "  </tbody>\n",
       "</table>\n",
       "<p>127 rows × 10 columns</p>\n",
       "</div>"
      ],
      "text/plain": [
       "            Date     Open     High      Low    Close     Adj Close  Volume  \\\n",
       "23    2000-02-04   5130.0   5130.0   5130.0   5130.0   3881.895752       0   \n",
       "41    2000-03-01   5120.0   5120.0   5120.0   5120.0   3874.329834       0   \n",
       "66    2000-04-05   6800.0   6800.0   6800.0   6800.0   5145.594238       0   \n",
       "72    2000-04-13   6910.0   6910.0   6910.0   6910.0   5228.832520       0   \n",
       "84    2000-05-01   6000.0   6000.0   6000.0   6000.0   4540.229980       0   \n",
       "...          ...      ...      ...      ...      ...           ...     ...   \n",
       "5564  2022-02-28  71900.0  71900.0  71900.0  71900.0  71095.539063       0   \n",
       "5567  2022-03-04  72900.0  72900.0  72900.0  72900.0  72084.343750       0   \n",
       "5570  2022-03-10  69500.0  69500.0  69500.0  69500.0  68722.390625       0   \n",
       "5573  2022-03-15  70200.0  70200.0  70200.0  70200.0  69414.554688       0   \n",
       "5575  2022-03-17  70400.0  70400.0  70400.0  70400.0  69612.320313       0   \n",
       "\n",
       "               3MA           5MA      MID  \n",
       "23     3912.164063   3996.914844   5130.0  \n",
       "41     3793.614502   3818.333643   5120.0  \n",
       "66     5221.264485   5213.697265   6800.0  \n",
       "72     5276.756673   5360.498340   6910.0  \n",
       "84     4388.888753   4334.406689   6000.0  \n",
       "...            ...           ...      ...  \n",
       "5564  70963.695313  71965.689063  71900.0  \n",
       "5567  71688.817708  71451.506250  72900.0  \n",
       "5570  68920.151042  70185.828125  69500.0  \n",
       "5573  69348.635417  69098.137500  70200.0  \n",
       "5575  69546.398438  69454.109375  70400.0  \n",
       "\n",
       "[127 rows x 10 columns]"
      ]
     },
     "execution_count": 14,
     "metadata": {},
     "output_type": "execute_result"
    }
   ],
   "source": [
    "# Volume == 0 데이터 표시하기\n",
    "\n",
    "df.loc[df[\"Volume\"] == 0, :]"
   ]
  },
  {
   "cell_type": "code",
   "execution_count": 15,
   "id": "603aef06-8f96-4f8e-ad57-74bd2d340007",
   "metadata": {},
   "outputs": [],
   "source": [
    "# 0값 데이터 날리기\n",
    "# 0을 nan으로 만들고 nan을 날란다.\n",
    "df['Volume'] = df['Volume'].replace(0, np.nan)"
   ]
  },
  {
   "cell_type": "code",
   "execution_count": 16,
   "id": "d1b4eafa-263b-4828-bd85-f693708c01ed",
   "metadata": {},
   "outputs": [
    {
     "data": {
      "text/plain": [
       "Date           0\n",
       "Open           0\n",
       "High           0\n",
       "Low            0\n",
       "Close          0\n",
       "Adj Close      0\n",
       "Volume       127\n",
       "3MA            2\n",
       "5MA            4\n",
       "MID            0\n",
       "dtype: int64"
      ]
     },
     "execution_count": 16,
     "metadata": {},
     "output_type": "execute_result"
    }
   ],
   "source": [
    "df.isna().sum(axis=0)"
   ]
  },
  {
   "cell_type": "code",
   "execution_count": 17,
   "id": "b22fa3c0-2281-43da-a7e5-651e747181ed",
   "metadata": {},
   "outputs": [],
   "source": [
    "df = df.dropna()"
   ]
  },
  {
   "cell_type": "code",
   "execution_count": 18,
   "id": "d5a3207f-f9c7-4218-82ff-ca4367e9d5be",
   "metadata": {},
   "outputs": [
    {
     "data": {
      "text/plain": [
       "Date         0\n",
       "Open         0\n",
       "High         0\n",
       "Low          0\n",
       "Close        0\n",
       "Adj Close    0\n",
       "Volume       0\n",
       "3MA          0\n",
       "5MA          0\n",
       "MID          0\n",
       "dtype: int64"
      ]
     },
     "execution_count": 18,
     "metadata": {},
     "output_type": "execute_result"
    }
   ],
   "source": [
    "df.isna().sum(axis=0)"
   ]
  },
  {
   "cell_type": "code",
   "execution_count": 19,
   "id": "2e2f43ed-286a-4704-b83f-af4c00b05d4d",
   "metadata": {},
   "outputs": [
    {
     "name": "stdout",
     "output_type": "stream",
     "text": [
      "<class 'pandas.core.frame.DataFrame'>\n",
      "Int64Index: 5544 entries, 4 to 5674\n",
      "Data columns (total 10 columns):\n",
      " #   Column     Non-Null Count  Dtype  \n",
      "---  ------     --------------  -----  \n",
      " 0   Date       5544 non-null   object \n",
      " 1   Open       5544 non-null   float64\n",
      " 2   High       5544 non-null   float64\n",
      " 3   Low        5544 non-null   float64\n",
      " 4   Close      5544 non-null   float64\n",
      " 5   Adj Close  5544 non-null   float64\n",
      " 6   Volume     5544 non-null   float64\n",
      " 7   3MA        5544 non-null   float64\n",
      " 8   5MA        5544 non-null   float64\n",
      " 9   MID        5544 non-null   float64\n",
      "dtypes: float64(9), object(1)\n",
      "memory usage: 476.4+ KB\n"
     ]
    }
   ],
   "source": [
    "# 정규화 (스케일링)\n",
    "#Dtype이 숫자인 것만 스케일링 진행\n",
    "df.info()"
   ]
  },
  {
   "cell_type": "code",
   "execution_count": 20,
   "id": "9fe61abc-d3b7-46ac-9e7a-74fe65d85bb5",
   "metadata": {},
   "outputs": [],
   "source": [
    "sel_col = df.select_dtypes(include=['number']).columns #특정 타입을 가진 컬럼 뽑아내기"
   ]
  },
  {
   "cell_type": "code",
   "execution_count": 21,
   "id": "282625d2-8530-4a9a-bad3-418d31055c7b",
   "metadata": {},
   "outputs": [],
   "source": [
    "#pip install -U scikit-learn"
   ]
  },
  {
   "cell_type": "code",
   "execution_count": 22,
   "id": "081f2ccc-0cfa-437d-b410-983bca554ca6",
   "metadata": {},
   "outputs": [],
   "source": [
    "from sklearn.preprocessing import MinMaxScaler\n",
    "\n",
    "sc = MinMaxScaler()\n",
    "scaled_df = sc.fit_transform(df.select_dtypes(include=['number']))"
   ]
  },
  {
   "cell_type": "code",
   "execution_count": 23,
   "id": "48967bff-5e60-467a-be2f-4334094e7817",
   "metadata": {},
   "outputs": [],
   "source": [
    "scaled_df = pd.DataFrame(scaled_df, columns=sel_col)"
   ]
  },
  {
   "cell_type": "code",
   "execution_count": 24,
   "id": "4a161fa7-3251-4c01-a75a-c8e193a55405",
   "metadata": {},
   "outputs": [
    {
     "data": {
      "text/html": [
       "<div>\n",
       "<style scoped>\n",
       "    .dataframe tbody tr th:only-of-type {\n",
       "        vertical-align: middle;\n",
       "    }\n",
       "\n",
       "    .dataframe tbody tr th {\n",
       "        vertical-align: top;\n",
       "    }\n",
       "\n",
       "    .dataframe thead th {\n",
       "        text-align: right;\n",
       "    }\n",
       "</style>\n",
       "<table border=\"1\" class=\"dataframe\">\n",
       "  <thead>\n",
       "    <tr style=\"text-align: right;\">\n",
       "      <th></th>\n",
       "      <th>Open</th>\n",
       "      <th>High</th>\n",
       "      <th>Low</th>\n",
       "      <th>Close</th>\n",
       "      <th>Adj Close</th>\n",
       "      <th>Volume</th>\n",
       "      <th>3MA</th>\n",
       "      <th>5MA</th>\n",
       "      <th>MID</th>\n",
       "    </tr>\n",
       "  </thead>\n",
       "  <tbody>\n",
       "    <tr>\n",
       "      <th>0</th>\n",
       "      <td>0.034868</td>\n",
       "      <td>0.032008</td>\n",
       "      <td>0.036288</td>\n",
       "      <td>0.034440</td>\n",
       "      <td>0.026655</td>\n",
       "      <td>0.285359</td>\n",
       "      <td>0.025192</td>\n",
       "      <td>0.025698</td>\n",
       "      <td>0.034066</td>\n",
       "    </tr>\n",
       "    <tr>\n",
       "      <th>1</th>\n",
       "      <td>0.037375</td>\n",
       "      <td>0.035517</td>\n",
       "      <td>0.038470</td>\n",
       "      <td>0.034440</td>\n",
       "      <td>0.026655</td>\n",
       "      <td>0.363715</td>\n",
       "      <td>0.025634</td>\n",
       "      <td>0.025094</td>\n",
       "      <td>0.036937</td>\n",
       "    </tr>\n",
       "    <tr>\n",
       "      <th>2</th>\n",
       "      <td>0.034982</td>\n",
       "      <td>0.031689</td>\n",
       "      <td>0.036518</td>\n",
       "      <td>0.033873</td>\n",
       "      <td>0.026217</td>\n",
       "      <td>0.177799</td>\n",
       "      <td>0.026163</td>\n",
       "      <td>0.025343</td>\n",
       "      <td>0.034011</td>\n",
       "    </tr>\n",
       "    <tr>\n",
       "      <th>3</th>\n",
       "      <td>0.034868</td>\n",
       "      <td>0.031689</td>\n",
       "      <td>0.036059</td>\n",
       "      <td>0.033760</td>\n",
       "      <td>0.026129</td>\n",
       "      <td>0.250704</td>\n",
       "      <td>0.025987</td>\n",
       "      <td>0.025503</td>\n",
       "      <td>0.033790</td>\n",
       "    </tr>\n",
       "    <tr>\n",
       "      <th>4</th>\n",
       "      <td>0.036235</td>\n",
       "      <td>0.033177</td>\n",
       "      <td>0.037437</td>\n",
       "      <td>0.035120</td>\n",
       "      <td>0.027181</td>\n",
       "      <td>0.300555</td>\n",
       "      <td>0.026163</td>\n",
       "      <td>0.026018</td>\n",
       "      <td>0.035225</td>\n",
       "    </tr>\n",
       "  </tbody>\n",
       "</table>\n",
       "</div>"
      ],
      "text/plain": [
       "       Open      High       Low     Close  Adj Close    Volume       3MA  \\\n",
       "0  0.034868  0.032008  0.036288  0.034440   0.026655  0.285359  0.025192   \n",
       "1  0.037375  0.035517  0.038470  0.034440   0.026655  0.363715  0.025634   \n",
       "2  0.034982  0.031689  0.036518  0.033873   0.026217  0.177799  0.026163   \n",
       "3  0.034868  0.031689  0.036059  0.033760   0.026129  0.250704  0.025987   \n",
       "4  0.036235  0.033177  0.037437  0.035120   0.027181  0.300555  0.026163   \n",
       "\n",
       "        5MA       MID  \n",
       "0  0.025698  0.034066  \n",
       "1  0.025094  0.036937  \n",
       "2  0.025343  0.034011  \n",
       "3  0.025503  0.033790  \n",
       "4  0.026018  0.035225  "
      ]
     },
     "execution_count": 24,
     "metadata": {},
     "output_type": "execute_result"
    }
   ],
   "source": [
    "scaled_df.head()"
   ]
  },
  {
   "cell_type": "markdown",
   "id": "5912b6c7-0534-4315-8e52-7fa58d9aaec3",
   "metadata": {},
   "source": [
    "## 데이터 만들기"
   ]
  },
  {
   "cell_type": "code",
   "execution_count": 25,
   "id": "3896e81e-de4d-4fb9-a1d5-8267e16a7d0a",
   "metadata": {},
   "outputs": [],
   "source": [
    "feature_cols = ['Adj Close', '3MA', '5MA', 'MID']\n",
    "label_col = ['Close']"
   ]
  },
  {
   "cell_type": "code",
   "execution_count": 26,
   "id": "f2082614-db54-4ad7-88c2-39c8e40419c0",
   "metadata": {},
   "outputs": [],
   "source": [
    "feature_df = scaled_df.loc[:, feature_cols]\n",
    "label_df = scaled_df.loc[:, label_col]"
   ]
  },
  {
   "cell_type": "code",
   "execution_count": 27,
   "id": "8e2601f6-4523-4042-9760-5eafa534236a",
   "metadata": {},
   "outputs": [],
   "source": [
    "feature_np = feature_df.to_numpy()\n",
    "label_np = label_df.to_numpy()"
   ]
  },
  {
   "cell_type": "code",
   "execution_count": 49,
   "id": "edd218b8-0eb3-4f39-91ad-3400b29ca01d",
   "metadata": {},
   "outputs": [],
   "source": [
    "#시계열 데이터를 timestep으로 바꿔주는 함수\n",
    "def make_sequence_dataset(feature, label, window_size):\n",
    "    feature_list = []\n",
    "    label_list = []\n",
    "    \n",
    "    for i in range(len(feature)-window_size):\n",
    "        feature_list.append(feature[i:i+window_size])\n",
    "        label_list.append(label[i+window_size])\n",
    "        \n",
    "    return np.array(feature_list), np.array(label_list)"
   ]
  },
  {
   "cell_type": "code",
   "execution_count": 50,
   "id": "ed131dd3-228e-4d18-8e29-1b4f5d072383",
   "metadata": {},
   "outputs": [],
   "source": [
    "window_size = 40 #앞의 40일분의 데이터를 보고 다음날을 예측한다고 하자.\n",
    "X_data, y_data = make_sequence_dataset(feature_np, label_np, window_size)"
   ]
  },
  {
   "cell_type": "code",
   "execution_count": 51,
   "id": "fab001b9-404b-4f9b-b921-ef0c522534d4",
   "metadata": {},
   "outputs": [
    {
     "data": {
      "text/plain": [
       "(5504, 40, 4)"
      ]
     },
     "execution_count": 51,
     "metadata": {},
     "output_type": "execute_result"
    }
   ],
   "source": [
    "X_data.shape"
   ]
  },
  {
   "cell_type": "code",
   "execution_count": 52,
   "id": "6dd37717-f810-4a8c-95d9-809a1cf39684",
   "metadata": {},
   "outputs": [
    {
     "data": {
      "text/plain": [
       "(5504, 1)"
      ]
     },
     "execution_count": 52,
     "metadata": {},
     "output_type": "execute_result"
    }
   ],
   "source": [
    "y_data.shape"
   ]
  },
  {
   "cell_type": "code",
   "execution_count": 53,
   "id": "a35e89a6-c41f-475f-8a4a-706eac18c9f2",
   "metadata": {},
   "outputs": [],
   "source": [
    "# 학습/검증셋 분리\n",
    "# 기존에 계속 사용해오던 train_test_split을 사용하게 되면 시계열이 섞이기 때문에 다르게 분리해야한다.\n",
    "\n",
    "split = int(len(X_data)*0.8)\n",
    "\n",
    "X_train = X_data[:split]\n",
    "y_train = y_data[:split]\n",
    "X_test = X_data[split:]\n",
    "y_test = y_data[split:]"
   ]
  },
  {
   "cell_type": "code",
   "execution_count": 54,
   "id": "dd6c18d9-c6b4-4128-a159-6ef47597882d",
   "metadata": {},
   "outputs": [
    {
     "data": {
      "text/plain": [
       "(4403, 40, 4)"
      ]
     },
     "execution_count": 54,
     "metadata": {},
     "output_type": "execute_result"
    }
   ],
   "source": [
    "X_train.shape"
   ]
  },
  {
   "cell_type": "code",
   "execution_count": 55,
   "id": "87a26a49-583d-41ba-abde-478160b3e1ad",
   "metadata": {},
   "outputs": [
    {
     "data": {
      "text/plain": [
       "array([[[0.02665502, 0.02519219, 0.02569813, 0.03406581],\n",
       "        [0.02665502, 0.02563364, 0.0250943 , 0.03693684],\n",
       "        [0.02621664, 0.02616339, 0.02534294, 0.0340106 ],\n",
       "        [0.02612895, 0.02598681, 0.02550278, 0.03378975],\n",
       "        [0.02718112, 0.0261634 , 0.02601781, 0.03522527],\n",
       "        [0.02954852, 0.02728174, 0.02660388, 0.03820671],\n",
       "        [0.02954852, 0.02842952, 0.02718995, 0.03842756],\n",
       "        [0.02832098, 0.02881212, 0.02761618, 0.03765459],\n",
       "        [0.02902242, 0.02863553, 0.02820225, 0.03688163],\n",
       "        [0.02761953, 0.02798807, 0.02829105, 0.03688163],\n",
       "        [0.02604125, 0.02722288, 0.02758066, 0.03544611],\n",
       "        [0.02376156, 0.02545707, 0.02640853, 0.03257509],\n",
       "        [0.02411228, 0.02427986, 0.02555606, 0.03174691],\n",
       "        [0.024463  , 0.02375012, 0.02463256, 0.03240945],\n",
       "        [0.02709344, 0.02486847, 0.024526  , 0.0344523 ],\n",
       "        [0.02498908, 0.02516276, 0.02431289, 0.03373454],\n",
       "        [0.02270937, 0.02457416, 0.02409977, 0.03180212],\n",
       "        [0.02209561, 0.02289664, 0.0236913 , 0.02926237],\n",
       "        [0.02104344, 0.02157228, 0.02299867, 0.02898631],\n",
       "        [0.02200793, 0.02098368, 0.02116943, 0.02865504],\n",
       "        [0.02367387, 0.02186659, 0.02136479, 0.03097394],\n",
       "        [0.02621664, 0.02360297, 0.0221995 , 0.03323763],\n",
       "        [0.02656737, 0.02513335, 0.02331836, 0.03478357],\n",
       "        [0.02604125, 0.02592796, 0.02433065, 0.03566696],\n",
       "        [0.02323547, 0.02492733, 0.02457929, 0.03213339],\n",
       "        [0.02165722, 0.02327924, 0.02417082, 0.02970406],\n",
       "        [0.0199036 , 0.02121913, 0.02289213, 0.02650177],\n",
       "        [0.02060503, 0.02033623, 0.02168447, 0.0266674 ],\n",
       "        [0.02253401, 0.02063052, 0.02097408, 0.03097394],\n",
       "        [0.02051737, 0.02083653, 0.02042354, 0.02821334],\n",
       "        [0.02095577, 0.02095426, 0.02028146, 0.02793728],\n",
       "        [0.02113113, 0.02048338, 0.02053009, 0.02859982],\n",
       "        [0.02051737, 0.02048338, 0.02051234, 0.02826855],\n",
       "        [0.02095577, 0.02048338, 0.02019267, 0.02732995],\n",
       "        [0.01814997, 0.01948276, 0.01971316, 0.02578401],\n",
       "        [0.02095577, 0.0196299 , 0.01971316, 0.02650177],\n",
       "        [0.02761953, 0.02280836, 0.02111617, 0.03434187],\n",
       "        [0.0286717 , 0.02539821, 0.02267901, 0.03837235],\n",
       "        [0.0255152 , 0.02692859, 0.02417082, 0.03572217],\n",
       "        [0.02533982, 0.0261634 , 0.0250588 , 0.03279594]]])"
      ]
     },
     "execution_count": 55,
     "metadata": {},
     "output_type": "execute_result"
    }
   ],
   "source": [
    "X_train[:1]"
   ]
  },
  {
   "cell_type": "markdown",
   "id": "30a5e00f-388c-47fd-a71d-32b4ee431221",
   "metadata": {},
   "source": [
    "## 모델"
   ]
  },
  {
   "cell_type": "code",
   "execution_count": 56,
   "id": "ed3be440-bcc6-4fba-9b14-208ffbc2ce23",
   "metadata": {},
   "outputs": [],
   "source": [
    "#pip install tensorflow"
   ]
  },
  {
   "cell_type": "code",
   "execution_count": 57,
   "id": "3a95141d-2b7f-4ba9-a1f4-9acacea83ae1",
   "metadata": {},
   "outputs": [
    {
     "name": "stdout",
     "output_type": "stream",
     "text": [
      "Model: \"sequential_1\"\n",
      "_________________________________________________________________\n",
      " Layer (type)                Output Shape              Param #   \n",
      "=================================================================\n",
      " lstm_1 (LSTM)               (None, 128)               68096     \n",
      "                                                                 \n",
      " dense_1 (Dense)             (None, 1)                 129       \n",
      "                                                                 \n",
      "=================================================================\n",
      "Total params: 68,225\n",
      "Trainable params: 68,225\n",
      "Non-trainable params: 0\n",
      "_________________________________________________________________\n"
     ]
    }
   ],
   "source": [
    "import tensorflow as tf\n",
    "from tensorflow import keras\n",
    "from tensorflow.keras import layers\n",
    "\n",
    "model = keras.Sequential()\n",
    "model.add(layers.LSTM(128, activation='tanh', input_shape=(40, 4)))\n",
    "model.add(layers.Dense(1, activation='linear'))\n",
    "\n",
    "model.summary()"
   ]
  },
  {
   "cell_type": "code",
   "execution_count": 58,
   "id": "ade235f1-89eb-413c-9c2c-d6144fe67f57",
   "metadata": {},
   "outputs": [],
   "source": [
    "model.compile(loss='mse', optimizer = 'adam',\n",
    "             metrics=['mae'])"
   ]
  },
  {
   "cell_type": "code",
   "execution_count": 59,
   "id": "54a458ed-c12c-4330-b8be-96d59928b564",
   "metadata": {},
   "outputs": [
    {
     "name": "stdout",
     "output_type": "stream",
     "text": [
      "Epoch 1/100\n",
      "276/276 [==============================] - 6s 17ms/step - loss: 7.3225e-04 - mae: 0.0110 - val_loss: 9.3230e-04 - val_mae: 0.0240\n",
      "Epoch 2/100\n",
      "276/276 [==============================] - 5s 16ms/step - loss: 6.3903e-05 - mae: 0.0058 - val_loss: 7.8593e-04 - val_mae: 0.0218\n",
      "Epoch 3/100\n",
      "276/276 [==============================] - 4s 16ms/step - loss: 6.0909e-05 - mae: 0.0057 - val_loss: 0.0011 - val_mae: 0.0279\n",
      "Epoch 4/100\n",
      "276/276 [==============================] - 4s 16ms/step - loss: 5.9494e-05 - mae: 0.0056 - val_loss: 8.9073e-04 - val_mae: 0.0243\n",
      "Epoch 5/100\n",
      "276/276 [==============================] - 4s 16ms/step - loss: 5.1619e-05 - mae: 0.0052 - val_loss: 0.0010 - val_mae: 0.0268\n",
      "Epoch 6/100\n",
      "276/276 [==============================] - 4s 16ms/step - loss: 5.4305e-05 - mae: 0.0054 - val_loss: 7.4084e-04 - val_mae: 0.0218\n",
      "Epoch 7/100\n",
      "276/276 [==============================] - 4s 16ms/step - loss: 4.7812e-05 - mae: 0.0051 - val_loss: 6.3833e-04 - val_mae: 0.0202\n",
      "Epoch 8/100\n",
      "276/276 [==============================] - 4s 16ms/step - loss: 4.7317e-05 - mae: 0.0050 - val_loss: 8.0046e-04 - val_mae: 0.0233\n",
      "Epoch 9/100\n",
      "276/276 [==============================] - 4s 16ms/step - loss: 4.5641e-05 - mae: 0.0049 - val_loss: 9.0467e-04 - val_mae: 0.0252\n",
      "Epoch 10/100\n",
      "276/276 [==============================] - 4s 16ms/step - loss: 4.3342e-05 - mae: 0.0049 - val_loss: 5.7875e-04 - val_mae: 0.0194\n",
      "Epoch 11/100\n",
      "276/276 [==============================] - 4s 16ms/step - loss: 4.3570e-05 - mae: 0.0048 - val_loss: 3.4886e-04 - val_mae: 0.0144\n",
      "Epoch 12/100\n",
      "276/276 [==============================] - 4s 16ms/step - loss: 3.8319e-05 - mae: 0.0045 - val_loss: 6.1919e-04 - val_mae: 0.0204\n",
      "Epoch 13/100\n",
      "276/276 [==============================] - 4s 16ms/step - loss: 3.5576e-05 - mae: 0.0043 - val_loss: 0.0010 - val_mae: 0.0272\n",
      "Epoch 14/100\n",
      "276/276 [==============================] - 4s 16ms/step - loss: 3.7058e-05 - mae: 0.0045 - val_loss: 8.6673e-04 - val_mae: 0.0251\n",
      "Epoch 15/100\n",
      "276/276 [==============================] - 4s 16ms/step - loss: 3.4716e-05 - mae: 0.0043 - val_loss: 8.7734e-04 - val_mae: 0.0254\n",
      "Epoch 16/100\n",
      "276/276 [==============================] - 4s 16ms/step - loss: 3.5056e-05 - mae: 0.0043 - val_loss: 8.5899e-04 - val_mae: 0.0253\n",
      "Epoch 17/100\n",
      "276/276 [==============================] - 4s 16ms/step - loss: 3.0777e-05 - mae: 0.0041 - val_loss: 9.6622e-04 - val_mae: 0.0271\n",
      "Epoch 18/100\n",
      "276/276 [==============================] - 4s 16ms/step - loss: 3.2135e-05 - mae: 0.0041 - val_loss: 9.0704e-04 - val_mae: 0.0262\n",
      "Epoch 19/100\n",
      "276/276 [==============================] - 4s 16ms/step - loss: 2.8785e-05 - mae: 0.0039 - val_loss: 3.5957e-04 - val_mae: 0.0151\n",
      "Epoch 20/100\n",
      "276/276 [==============================] - 5s 17ms/step - loss: 2.8206e-05 - mae: 0.0039 - val_loss: 4.1436e-04 - val_mae: 0.0163\n",
      "Epoch 21/100\n",
      "276/276 [==============================] - 4s 16ms/step - loss: 3.3819e-05 - mae: 0.0042 - val_loss: 0.0010 - val_mae: 0.0282\n",
      "Epoch 22/100\n",
      "276/276 [==============================] - 4s 16ms/step - loss: 2.6026e-05 - mae: 0.0037 - val_loss: 8.7152e-04 - val_mae: 0.0255\n",
      "Epoch 23/100\n",
      "276/276 [==============================] - 4s 16ms/step - loss: 2.7250e-05 - mae: 0.0038 - val_loss: 0.0011 - val_mae: 0.0299\n",
      "Epoch 24/100\n",
      "276/276 [==============================] - 4s 16ms/step - loss: 2.4966e-05 - mae: 0.0036 - val_loss: 4.4701e-04 - val_mae: 0.0172\n",
      "Epoch 25/100\n",
      "276/276 [==============================] - 5s 16ms/step - loss: 2.8401e-05 - mae: 0.0039 - val_loss: 8.6931e-04 - val_mae: 0.0255\n",
      "Epoch 26/100\n",
      "276/276 [==============================] - 5s 17ms/step - loss: 2.2341e-05 - mae: 0.0034 - val_loss: 8.1252e-04 - val_mae: 0.0244\n",
      "Epoch 27/100\n",
      "276/276 [==============================] - 5s 16ms/step - loss: 2.3157e-05 - mae: 0.0035 - val_loss: 8.0911e-04 - val_mae: 0.0243\n",
      "Epoch 28/100\n",
      "276/276 [==============================] - 5s 16ms/step - loss: 2.2639e-05 - mae: 0.0034 - val_loss: 0.0011 - val_mae: 0.0287\n",
      "Epoch 29/100\n",
      "276/276 [==============================] - 5s 17ms/step - loss: 2.2353e-05 - mae: 0.0034 - val_loss: 4.9497e-04 - val_mae: 0.0184\n",
      "Epoch 30/100\n",
      "276/276 [==============================] - 5s 16ms/step - loss: 2.1612e-05 - mae: 0.0033 - val_loss: 2.4044e-04 - val_mae: 0.0120\n",
      "Epoch 31/100\n",
      "276/276 [==============================] - 4s 16ms/step - loss: 2.5661e-05 - mae: 0.0036 - val_loss: 5.3930e-04 - val_mae: 0.0194\n",
      "Epoch 32/100\n",
      "276/276 [==============================] - 4s 15ms/step - loss: 2.2562e-05 - mae: 0.0034 - val_loss: 4.0262e-04 - val_mae: 0.0162\n",
      "Epoch 33/100\n",
      "276/276 [==============================] - 4s 15ms/step - loss: 2.2273e-05 - mae: 0.0034 - val_loss: 5.8937e-04 - val_mae: 0.0204\n",
      "Epoch 34/100\n",
      "276/276 [==============================] - 4s 16ms/step - loss: 2.1584e-05 - mae: 0.0034 - val_loss: 8.0293e-04 - val_mae: 0.0242\n",
      "Epoch 35/100\n",
      "276/276 [==============================] - 4s 16ms/step - loss: 2.0578e-05 - mae: 0.0033 - val_loss: 4.7230e-04 - val_mae: 0.0178\n",
      "Epoch 36/100\n",
      "276/276 [==============================] - 4s 16ms/step - loss: 2.0816e-05 - mae: 0.0033 - val_loss: 3.2685e-04 - val_mae: 0.0145\n",
      "Epoch 37/100\n",
      "276/276 [==============================] - 4s 15ms/step - loss: 2.5163e-05 - mae: 0.0036 - val_loss: 4.6641e-04 - val_mae: 0.0178\n",
      "Epoch 38/100\n",
      "276/276 [==============================] - 4s 16ms/step - loss: 2.3001e-05 - mae: 0.0035 - val_loss: 5.1688e-04 - val_mae: 0.0190\n",
      "Epoch 39/100\n",
      "276/276 [==============================] - 4s 16ms/step - loss: 2.1846e-05 - mae: 0.0034 - val_loss: 4.4049e-04 - val_mae: 0.0172\n",
      "Epoch 40/100\n",
      "276/276 [==============================] - 4s 15ms/step - loss: 2.0830e-05 - mae: 0.0033 - val_loss: 4.3147e-04 - val_mae: 0.0173\n",
      "Epoch 41/100\n",
      "276/276 [==============================] - 4s 16ms/step - loss: 2.1716e-05 - mae: 0.0033 - val_loss: 4.7754e-04 - val_mae: 0.0180\n",
      "Epoch 42/100\n",
      "276/276 [==============================] - 4s 16ms/step - loss: 2.3745e-05 - mae: 0.0036 - val_loss: 4.9871e-04 - val_mae: 0.0186\n",
      "Epoch 43/100\n",
      "276/276 [==============================] - 4s 16ms/step - loss: 2.2743e-05 - mae: 0.0034 - val_loss: 2.3258e-04 - val_mae: 0.0118\n",
      "Epoch 44/100\n",
      "276/276 [==============================] - 4s 16ms/step - loss: 2.1309e-05 - mae: 0.0033 - val_loss: 4.1427e-04 - val_mae: 0.0167\n",
      "Epoch 45/100\n",
      "276/276 [==============================] - 4s 16ms/step - loss: 2.0853e-05 - mae: 0.0033 - val_loss: 6.1358e-04 - val_mae: 0.0210\n",
      "Epoch 46/100\n",
      "276/276 [==============================] - 4s 16ms/step - loss: 2.1285e-05 - mae: 0.0033 - val_loss: 2.4949e-04 - val_mae: 0.0123\n",
      "Epoch 47/100\n",
      "276/276 [==============================] - 4s 16ms/step - loss: 2.2095e-05 - mae: 0.0034 - val_loss: 2.4646e-04 - val_mae: 0.0123\n",
      "Epoch 48/100\n",
      "276/276 [==============================] - 4s 16ms/step - loss: 2.2452e-05 - mae: 0.0034 - val_loss: 5.5277e-04 - val_mae: 0.0199\n",
      "Epoch 49/100\n",
      "276/276 [==============================] - 4s 16ms/step - loss: 2.0623e-05 - mae: 0.0033 - val_loss: 5.0342e-04 - val_mae: 0.0189\n",
      "Epoch 50/100\n",
      "276/276 [==============================] - 4s 16ms/step - loss: 2.1236e-05 - mae: 0.0033 - val_loss: 4.5823e-04 - val_mae: 0.0178\n",
      "Epoch 51/100\n",
      "276/276 [==============================] - 4s 16ms/step - loss: 1.9917e-05 - mae: 0.0032 - val_loss: 3.7171e-04 - val_mae: 0.0156\n",
      "Epoch 52/100\n",
      "276/276 [==============================] - 4s 16ms/step - loss: 1.9374e-05 - mae: 0.0031 - val_loss: 3.9042e-04 - val_mae: 0.0161\n",
      "Epoch 53/100\n",
      "276/276 [==============================] - 4s 16ms/step - loss: 1.9945e-05 - mae: 0.0032 - val_loss: 3.9488e-04 - val_mae: 0.0161\n",
      "Epoch 54/100\n",
      "276/276 [==============================] - 5s 17ms/step - loss: 2.1148e-05 - mae: 0.0033 - val_loss: 3.9946e-04 - val_mae: 0.0163\n",
      "Epoch 55/100\n",
      "276/276 [==============================] - 4s 16ms/step - loss: 2.2678e-05 - mae: 0.0034 - val_loss: 4.8178e-04 - val_mae: 0.0180\n",
      "Epoch 56/100\n",
      "276/276 [==============================] - 5s 17ms/step - loss: 2.0985e-05 - mae: 0.0033 - val_loss: 3.5360e-04 - val_mae: 0.0151\n",
      "Epoch 57/100\n",
      "276/276 [==============================] - 5s 17ms/step - loss: 2.3155e-05 - mae: 0.0035 - val_loss: 9.8851e-04 - val_mae: 0.0278\n",
      "Epoch 58/100\n",
      "276/276 [==============================] - 5s 16ms/step - loss: 2.1168e-05 - mae: 0.0033 - val_loss: 5.0539e-04 - val_mae: 0.0189\n",
      "Epoch 59/100\n",
      "276/276 [==============================] - 4s 16ms/step - loss: 2.0710e-05 - mae: 0.0033 - val_loss: 3.6802e-04 - val_mae: 0.0155\n",
      "Epoch 60/100\n",
      "276/276 [==============================] - 5s 16ms/step - loss: 2.0366e-05 - mae: 0.0032 - val_loss: 9.2703e-04 - val_mae: 0.0265\n",
      "Epoch 61/100\n",
      "276/276 [==============================] - 5s 17ms/step - loss: 1.9685e-05 - mae: 0.0032 - val_loss: 6.1189e-04 - val_mae: 0.0211\n",
      "Epoch 62/100\n",
      "276/276 [==============================] - 5s 16ms/step - loss: 2.0765e-05 - mae: 0.0033 - val_loss: 9.1660e-04 - val_mae: 0.0265\n",
      "Epoch 63/100\n",
      "276/276 [==============================] - 4s 16ms/step - loss: 2.0289e-05 - mae: 0.0032 - val_loss: 4.8709e-04 - val_mae: 0.0181\n",
      "Epoch 64/100\n",
      "276/276 [==============================] - 5s 16ms/step - loss: 2.0503e-05 - mae: 0.0033 - val_loss: 9.8787e-04 - val_mae: 0.0273\n",
      "Epoch 65/100\n",
      "276/276 [==============================] - 4s 16ms/step - loss: 2.0144e-05 - mae: 0.0032 - val_loss: 3.5085e-04 - val_mae: 0.0152\n",
      "Epoch 66/100\n",
      "276/276 [==============================] - 5s 16ms/step - loss: 2.0133e-05 - mae: 0.0032 - val_loss: 6.0754e-04 - val_mae: 0.0207\n",
      "Epoch 67/100\n",
      "276/276 [==============================] - 4s 16ms/step - loss: 1.8608e-05 - mae: 0.0031 - val_loss: 2.4163e-04 - val_mae: 0.0123\n",
      "Epoch 68/100\n",
      "276/276 [==============================] - 4s 16ms/step - loss: 2.1144e-05 - mae: 0.0033 - val_loss: 3.4124e-04 - val_mae: 0.0149\n",
      "Epoch 69/100\n",
      "276/276 [==============================] - 4s 16ms/step - loss: 2.0265e-05 - mae: 0.0032 - val_loss: 3.4518e-04 - val_mae: 0.0150\n",
      "Epoch 70/100\n",
      "276/276 [==============================] - 4s 16ms/step - loss: 1.9621e-05 - mae: 0.0032 - val_loss: 7.6397e-04 - val_mae: 0.0242\n",
      "Epoch 71/100\n",
      "276/276 [==============================] - 4s 16ms/step - loss: 2.1657e-05 - mae: 0.0033 - val_loss: 6.6408e-04 - val_mae: 0.0219\n",
      "Epoch 72/100\n",
      "276/276 [==============================] - 4s 16ms/step - loss: 2.0377e-05 - mae: 0.0033 - val_loss: 6.8696e-04 - val_mae: 0.0225\n",
      "Epoch 73/100\n",
      "276/276 [==============================] - 4s 16ms/step - loss: 1.9712e-05 - mae: 0.0032 - val_loss: 5.3776e-04 - val_mae: 0.0197\n",
      "Epoch 74/100\n",
      "276/276 [==============================] - 5s 17ms/step - loss: 1.9077e-05 - mae: 0.0031 - val_loss: 3.1915e-04 - val_mae: 0.0144\n",
      "Epoch 75/100\n",
      "276/276 [==============================] - 5s 16ms/step - loss: 2.1238e-05 - mae: 0.0033 - val_loss: 8.4073e-04 - val_mae: 0.0253\n",
      "Epoch 76/100\n",
      "276/276 [==============================] - 4s 16ms/step - loss: 1.9480e-05 - mae: 0.0032 - val_loss: 3.5051e-04 - val_mae: 0.0153\n",
      "Epoch 77/100\n",
      "276/276 [==============================] - 4s 16ms/step - loss: 2.0315e-05 - mae: 0.0032 - val_loss: 5.3346e-04 - val_mae: 0.0195\n",
      "Epoch 78/100\n",
      "276/276 [==============================] - 4s 16ms/step - loss: 2.1092e-05 - mae: 0.0033 - val_loss: 7.0055e-04 - val_mae: 0.0226\n",
      "Epoch 79/100\n",
      "276/276 [==============================] - 4s 16ms/step - loss: 2.1307e-05 - mae: 0.0033 - val_loss: 4.1774e-04 - val_mae: 0.0171\n",
      "Epoch 80/100\n",
      "276/276 [==============================] - 4s 16ms/step - loss: 2.1019e-05 - mae: 0.0033 - val_loss: 2.5627e-04 - val_mae: 0.0126\n",
      "Epoch 81/100\n",
      "276/276 [==============================] - 4s 16ms/step - loss: 1.8739e-05 - mae: 0.0031 - val_loss: 3.5559e-04 - val_mae: 0.0155\n",
      "Epoch 82/100\n",
      "276/276 [==============================] - 4s 16ms/step - loss: 1.8992e-05 - mae: 0.0031 - val_loss: 4.3057e-04 - val_mae: 0.0172\n",
      "Epoch 83/100\n",
      "276/276 [==============================] - 5s 17ms/step - loss: 1.9842e-05 - mae: 0.0032 - val_loss: 3.1330e-04 - val_mae: 0.0143\n",
      "Epoch 84/100\n",
      "276/276 [==============================] - 4s 16ms/step - loss: 1.8949e-05 - mae: 0.0031 - val_loss: 2.6070e-04 - val_mae: 0.0128\n",
      "Epoch 85/100\n",
      "276/276 [==============================] - 4s 16ms/step - loss: 2.0152e-05 - mae: 0.0032 - val_loss: 2.4929e-04 - val_mae: 0.0126\n",
      "Epoch 86/100\n",
      "276/276 [==============================] - 4s 16ms/step - loss: 1.9518e-05 - mae: 0.0032 - val_loss: 1.6652e-04 - val_mae: 0.0099\n",
      "Epoch 87/100\n",
      "276/276 [==============================] - 4s 16ms/step - loss: 2.0669e-05 - mae: 0.0032 - val_loss: 3.7502e-04 - val_mae: 0.0159\n",
      "Epoch 88/100\n",
      "276/276 [==============================] - 4s 16ms/step - loss: 1.9385e-05 - mae: 0.0032 - val_loss: 2.5037e-04 - val_mae: 0.0125\n",
      "Epoch 89/100\n",
      "276/276 [==============================] - 4s 16ms/step - loss: 2.0387e-05 - mae: 0.0032 - val_loss: 7.5875e-04 - val_mae: 0.0243\n",
      "Epoch 90/100\n",
      "276/276 [==============================] - 4s 16ms/step - loss: 1.9476e-05 - mae: 0.0032 - val_loss: 3.6621e-04 - val_mae: 0.0158\n",
      "Epoch 91/100\n",
      "276/276 [==============================] - 4s 16ms/step - loss: 1.9594e-05 - mae: 0.0031 - val_loss: 3.7221e-04 - val_mae: 0.0158\n",
      "Epoch 92/100\n",
      "276/276 [==============================] - 5s 17ms/step - loss: 1.9414e-05 - mae: 0.0031 - val_loss: 3.8671e-04 - val_mae: 0.0162\n",
      "Epoch 93/100\n",
      "276/276 [==============================] - 5s 16ms/step - loss: 2.1056e-05 - mae: 0.0033 - val_loss: 2.3823e-04 - val_mae: 0.0122\n",
      "Epoch 94/100\n",
      "276/276 [==============================] - 4s 16ms/step - loss: 1.9080e-05 - mae: 0.0031 - val_loss: 3.6217e-04 - val_mae: 0.0156\n",
      "Epoch 95/100\n",
      "276/276 [==============================] - 4s 16ms/step - loss: 1.9880e-05 - mae: 0.0032 - val_loss: 2.6571e-04 - val_mae: 0.0131\n",
      "Epoch 96/100\n",
      "276/276 [==============================] - 4s 16ms/step - loss: 1.9532e-05 - mae: 0.0032 - val_loss: 2.9882e-04 - val_mae: 0.0140\n",
      "Epoch 97/100\n",
      "276/276 [==============================] - 4s 16ms/step - loss: 1.8333e-05 - mae: 0.0031 - val_loss: 5.3740e-04 - val_mae: 0.0199\n",
      "Epoch 98/100\n",
      "276/276 [==============================] - 4s 16ms/step - loss: 1.8504e-05 - mae: 0.0030 - val_loss: 5.0394e-04 - val_mae: 0.0190\n",
      "Epoch 99/100\n",
      "276/276 [==============================] - 5s 17ms/step - loss: 1.8969e-05 - mae: 0.0031 - val_loss: 2.3501e-04 - val_mae: 0.0121\n",
      "Epoch 100/100\n",
      "276/276 [==============================] - 5s 16ms/step - loss: 1.9201e-05 - mae: 0.0032 - val_loss: 4.5148e-04 - val_mae: 0.0179\n"
     ]
    }
   ],
   "source": [
    "EPOCHS = 100\n",
    "BATCH_SIZE = 16\n",
    "\n",
    "history = model.fit(X_train, y_train,\n",
    "         validation_data=(X_test, y_test),\n",
    "         epochs=EPOCHS,\n",
    "         batch_size=BATCH_SIZE)"
   ]
  },
  {
   "cell_type": "code",
   "execution_count": 60,
   "id": "7936fea3-278d-4e2c-887e-ffc941665077",
   "metadata": {},
   "outputs": [],
   "source": [
    "import matplotlib.pyplot as plt\n",
    "\n",
    "def plot_history(history):\n",
    "    his_dict = history.history\n",
    "    epochs = history.epoch\n",
    "\n",
    "    plt.figure(figsize = (16, 7))\n",
    "\n",
    "    plt.subplot(1, 2, 1)\n",
    "    plt.plot(epochs, his_dict['mae'], 'b--', label = 'train_mae')\n",
    "    plt.plot(epochs, his_dict['val_mae'], 'r-', label = 'val_mae')\n",
    "    plt.title('mae')\n",
    "    plt.xlabel('epochs')\n",
    "    plt.ylabel('mae')\n",
    "    plt.legend()\n",
    "\n",
    "\n",
    "    plt.subplot(1, 2, 2)\n",
    "    plt.plot(epochs, his_dict['loss'], 'b--', label = 'train_loss')\n",
    "    plt.plot(epochs, his_dict['val_loss'], 'r-', label = 'val_loss')\n",
    "    plt.title('loss')\n",
    "    plt.xlabel('epochs')\n",
    "    plt.ylabel('loss')\n",
    "    plt.legend()\n",
    "\n"
   ]
  },
  {
   "cell_type": "code",
   "execution_count": 61,
   "id": "344b8d20-bd77-407c-a222-b5aacd5e6013",
   "metadata": {},
   "outputs": [
    {
     "name": "stdout",
     "output_type": "stream",
     "text": [
      "35/35 [==============================] - 1s 8ms/step\n"
     ]
    }
   ],
   "source": [
    "y_pred = model.predict(X_test)"
   ]
  },
  {
   "cell_type": "code",
   "execution_count": 62,
   "id": "8b105b97-33fc-468b-8c49-745dd9b5ae60",
   "metadata": {},
   "outputs": [
    {
     "data": {
      "image/png": "[encoded data removed]",
      "text/plain": [
       "<Figure size 1152x504 with 2 Axes>"
      ]
     },
     "metadata": {
      "needs_background": "light"
     },
     "output_type": "display_data"
    }
   ],
   "source": [
    "plot_history(history)"
   ]
  },
  {
   "cell_type": "code",
   "execution_count": 63,
   "id": "994f0d55-8174-4239-a4ce-20a17ddcd78d",
   "metadata": {},
   "outputs": [
    {
     "data": {
      "image/png": "[encoded data removed]",
      "text/plain": [
       "<Figure size 864x720 with 1 Axes>"
      ]
     },
     "metadata": {
      "needs_background": "light"
     },
     "output_type": "display_data"
    }
   ],
   "source": [
    "plt.figure(figsize=(12,10))\n",
    "plt.plot(y_test, label='y_test')\n",
    "plt.plot(y_pred, label='y_pred')\n",
    "plt.legend()\n",
    "plt.show()"
   ]
  },
  {
   "cell_type": "markdown",
   "id": "4f7d6649-addd-429d-857b-1f4d5c4a4842",
   "metadata": {},
   "source": [
    "## Multi LSTM"
   ]
  },
  {
   "cell_type": "code",
   "execution_count": 66,
   "id": "f4eaa494-b2b7-47d8-b709-d0a948707654",
   "metadata": {},
   "outputs": [],
   "source": [
    "def build_model():\n",
    "    model = keras.Sequential()\n",
    "    model.add(layers.LSTM(128, activation='tanh', return_sequences=True, input_shape=(40, 4)))\n",
    "    model.add(layers.LSTM(128, activation='tanh'))\n",
    "    model.add(layers.Dense(1, activation='linear'))\n",
    "    return model"
   ]
  },
  {
   "cell_type": "code",
   "execution_count": 67,
   "id": "af90b12a-5d17-428b-abef-03b02d075f12",
   "metadata": {},
   "outputs": [],
   "source": [
    "model = build_model()\n",
    "model.compile(loss = 'mse',\n",
    "             optimizer = 'adam',\n",
    "             metrics=['mae'])\n"
   ]
  },
  {
   "cell_type": "code",
   "execution_count": 68,
   "id": "1d58d464-cf9c-4342-9b8e-8d2b2b9dcaec",
   "metadata": {},
   "outputs": [
    {
     "name": "stdout",
     "output_type": "stream",
     "text": [
      "Epoch 1/100\n",
      "276/276 [==============================] - 10s 29ms/step - loss: 5.7666e-04 - mae: 0.0099 - val_loss: 6.2021e-04 - val_mae: 0.0183\n",
      "Epoch 2/100\n",
      "276/276 [==============================] - 7s 26ms/step - loss: 8.1875e-05 - mae: 0.0066 - val_loss: 5.9518e-04 - val_mae: 0.0181\n",
      "Epoch 3/100\n",
      "276/276 [==============================] - 7s 26ms/step - loss: 7.4411e-05 - mae: 0.0063 - val_loss: 6.7976e-04 - val_mae: 0.0202\n",
      "Epoch 4/100\n",
      "276/276 [==============================] - 7s 26ms/step - loss: 7.6368e-05 - mae: 0.0063 - val_loss: 5.1098e-04 - val_mae: 0.0170\n",
      "Epoch 5/100\n",
      "276/276 [==============================] - 7s 26ms/step - loss: 6.7503e-05 - mae: 0.0059 - val_loss: 0.0014 - val_mae: 0.0311\n",
      "Epoch 6/100\n",
      "276/276 [==============================] - 7s 26ms/step - loss: 6.2389e-05 - mae: 0.0057 - val_loss: 0.0014 - val_mae: 0.0324\n",
      "Epoch 7/100\n",
      "276/276 [==============================] - 7s 27ms/step - loss: 6.8061e-05 - mae: 0.0060 - val_loss: 0.0027 - val_mae: 0.0456\n",
      "Epoch 8/100\n",
      "276/276 [==============================] - 7s 27ms/step - loss: 5.1810e-05 - mae: 0.0052 - val_loss: 4.3676e-04 - val_mae: 0.0162\n",
      "Epoch 9/100\n",
      "276/276 [==============================] - 7s 26ms/step - loss: 5.4595e-05 - mae: 0.0054 - val_loss: 0.0010 - val_mae: 0.0268\n",
      "Epoch 10/100\n",
      "276/276 [==============================] - 7s 26ms/step - loss: 5.0551e-05 - mae: 0.0052 - val_loss: 0.0013 - val_mae: 0.0305\n",
      "Epoch 11/100\n",
      "276/276 [==============================] - 8s 28ms/step - loss: 4.9011e-05 - mae: 0.0051 - val_loss: 2.6768e-04 - val_mae: 0.0124\n",
      "Epoch 12/100\n",
      "276/276 [==============================] - 7s 26ms/step - loss: 5.4878e-05 - mae: 0.0055 - val_loss: 0.0013 - val_mae: 0.0317\n",
      "Epoch 13/100\n",
      "276/276 [==============================] - 7s 26ms/step - loss: 3.8469e-05 - mae: 0.0045 - val_loss: 4.5250e-04 - val_mae: 0.0170\n",
      "Epoch 14/100\n",
      "276/276 [==============================] - 7s 26ms/step - loss: 3.7849e-05 - mae: 0.0045 - val_loss: 2.2704e-04 - val_mae: 0.0114\n",
      "Epoch 15/100\n",
      "276/276 [==============================] - 8s 27ms/step - loss: 3.6811e-05 - mae: 0.0044 - val_loss: 7.4583e-04 - val_mae: 0.0233\n",
      "Epoch 16/100\n",
      "276/276 [==============================] - 7s 27ms/step - loss: 3.6130e-05 - mae: 0.0044 - val_loss: 2.8274e-04 - val_mae: 0.0131\n",
      "Epoch 17/100\n",
      "276/276 [==============================] - 7s 27ms/step - loss: 3.9713e-05 - mae: 0.0047 - val_loss: 3.1552e-04 - val_mae: 0.0139\n",
      "Epoch 18/100\n",
      "276/276 [==============================] - 7s 26ms/step - loss: 3.5201e-05 - mae: 0.0043 - val_loss: 8.6508e-04 - val_mae: 0.0252\n",
      "Epoch 19/100\n",
      "276/276 [==============================] - 7s 26ms/step - loss: 3.3890e-05 - mae: 0.0042 - val_loss: 8.9158e-04 - val_mae: 0.0250\n",
      "Epoch 20/100\n",
      "276/276 [==============================] - 7s 26ms/step - loss: 3.4247e-05 - mae: 0.0043 - val_loss: 7.0393e-04 - val_mae: 0.0227\n",
      "Epoch 21/100\n",
      "276/276 [==============================] - 7s 26ms/step - loss: 3.1046e-05 - mae: 0.0040 - val_loss: 0.0010 - val_mae: 0.0286\n",
      "Epoch 22/100\n",
      "276/276 [==============================] - 8s 27ms/step - loss: 2.7414e-05 - mae: 0.0037 - val_loss: 0.0016 - val_mae: 0.0363\n",
      "Epoch 23/100\n",
      "276/276 [==============================] - 7s 27ms/step - loss: 2.9229e-05 - mae: 0.0039 - val_loss: 0.0017 - val_mae: 0.0366\n",
      "Epoch 24/100\n",
      "276/276 [==============================] - 7s 27ms/step - loss: 2.7349e-05 - mae: 0.0038 - val_loss: 0.0019 - val_mae: 0.0390\n",
      "Epoch 25/100\n",
      "276/276 [==============================] - 7s 27ms/step - loss: 2.6307e-05 - mae: 0.0037 - val_loss: 5.5252e-04 - val_mae: 0.0193\n",
      "Epoch 26/100\n",
      "276/276 [==============================] - 7s 26ms/step - loss: 3.0486e-05 - mae: 0.0040 - val_loss: 2.9736e-04 - val_mae: 0.0133\n",
      "Epoch 27/100\n",
      "276/276 [==============================] - 7s 26ms/step - loss: 2.7067e-05 - mae: 0.0037 - val_loss: 1.9931e-04 - val_mae: 0.0108\n",
      "Epoch 28/100\n",
      "276/276 [==============================] - 7s 26ms/step - loss: 3.4296e-05 - mae: 0.0042 - val_loss: 4.6961e-04 - val_mae: 0.0179\n",
      "Epoch 29/100\n",
      "276/276 [==============================] - 7s 26ms/step - loss: 2.6563e-05 - mae: 0.0037 - val_loss: 4.3996e-04 - val_mae: 0.0172\n",
      "Epoch 30/100\n",
      "276/276 [==============================] - 7s 26ms/step - loss: 2.5558e-05 - mae: 0.0036 - val_loss: 6.0732e-04 - val_mae: 0.0204\n",
      "Epoch 31/100\n",
      "276/276 [==============================] - 7s 26ms/step - loss: 2.4997e-05 - mae: 0.0036 - val_loss: 9.6925e-04 - val_mae: 0.0274\n",
      "Epoch 32/100\n",
      "276/276 [==============================] - 7s 26ms/step - loss: 2.7322e-05 - mae: 0.0038 - val_loss: 5.5011e-04 - val_mae: 0.0195\n",
      "Epoch 33/100\n",
      "276/276 [==============================] - 8s 29ms/step - loss: 2.9466e-05 - mae: 0.0040 - val_loss: 6.1120e-04 - val_mae: 0.0205\n",
      "Epoch 34/100\n",
      "276/276 [==============================] - 7s 27ms/step - loss: 2.9279e-05 - mae: 0.0039 - val_loss: 6.6555e-04 - val_mae: 0.0221\n",
      "Epoch 35/100\n",
      "276/276 [==============================] - 7s 27ms/step - loss: 2.5444e-05 - mae: 0.0036 - val_loss: 9.2507e-04 - val_mae: 0.0268\n",
      "Epoch 36/100\n",
      "276/276 [==============================] - 7s 27ms/step - loss: 2.4188e-05 - mae: 0.0036 - val_loss: 5.2247e-04 - val_mae: 0.0191\n",
      "Epoch 37/100\n",
      "276/276 [==============================] - 7s 27ms/step - loss: 2.3947e-05 - mae: 0.0035 - val_loss: 9.2319e-04 - val_mae: 0.0265\n",
      "Epoch 38/100\n",
      "276/276 [==============================] - 7s 27ms/step - loss: 2.6251e-05 - mae: 0.0037 - val_loss: 6.8858e-04 - val_mae: 0.0225\n",
      "Epoch 39/100\n",
      "276/276 [==============================] - 8s 27ms/step - loss: 2.6260e-05 - mae: 0.0037 - val_loss: 2.9050e-04 - val_mae: 0.0137\n",
      "Epoch 40/100\n",
      "276/276 [==============================] - 8s 28ms/step - loss: 3.0157e-05 - mae: 0.0040 - val_loss: 5.7855e-04 - val_mae: 0.0208\n",
      "Epoch 41/100\n",
      "276/276 [==============================] - 7s 27ms/step - loss: 2.4403e-05 - mae: 0.0036 - val_loss: 3.5772e-04 - val_mae: 0.0153\n",
      "Epoch 42/100\n",
      "276/276 [==============================] - 7s 27ms/step - loss: 2.5125e-05 - mae: 0.0036 - val_loss: 3.6639e-04 - val_mae: 0.0153\n",
      "Epoch 43/100\n",
      "276/276 [==============================] - 7s 27ms/step - loss: 2.4378e-05 - mae: 0.0036 - val_loss: 5.0178e-04 - val_mae: 0.0180\n",
      "Epoch 44/100\n",
      "276/276 [==============================] - 7s 27ms/step - loss: 2.4748e-05 - mae: 0.0036 - val_loss: 2.6646e-04 - val_mae: 0.0128\n",
      "Epoch 45/100\n",
      "276/276 [==============================] - 7s 26ms/step - loss: 2.3748e-05 - mae: 0.0035 - val_loss: 4.3078e-04 - val_mae: 0.0170\n",
      "Epoch 46/100\n",
      "276/276 [==============================] - 7s 27ms/step - loss: 2.4572e-05 - mae: 0.0035 - val_loss: 1.9183e-04 - val_mae: 0.0106\n",
      "Epoch 47/100\n",
      "276/276 [==============================] - 7s 26ms/step - loss: 2.3545e-05 - mae: 0.0035 - val_loss: 4.6423e-04 - val_mae: 0.0181\n",
      "Epoch 48/100\n",
      "276/276 [==============================] - 7s 27ms/step - loss: 2.2238e-05 - mae: 0.0034 - val_loss: 6.2280e-04 - val_mae: 0.0212\n",
      "Epoch 49/100\n",
      "276/276 [==============================] - 7s 27ms/step - loss: 2.3576e-05 - mae: 0.0035 - val_loss: 7.4293e-04 - val_mae: 0.0233\n",
      "Epoch 50/100\n",
      "276/276 [==============================] - 7s 27ms/step - loss: 2.2760e-05 - mae: 0.0034 - val_loss: 4.7999e-04 - val_mae: 0.0182\n",
      "Epoch 51/100\n",
      "276/276 [==============================] - 7s 27ms/step - loss: 2.5520e-05 - mae: 0.0037 - val_loss: 3.8726e-04 - val_mae: 0.0163\n",
      "Epoch 52/100\n",
      "276/276 [==============================] - 8s 27ms/step - loss: 2.4913e-05 - mae: 0.0036 - val_loss: 3.6023e-04 - val_mae: 0.0155\n",
      "Epoch 53/100\n",
      "276/276 [==============================] - 7s 27ms/step - loss: 2.4026e-05 - mae: 0.0035 - val_loss: 6.3985e-04 - val_mae: 0.0216\n",
      "Epoch 54/100\n",
      "276/276 [==============================] - 7s 27ms/step - loss: 2.6104e-05 - mae: 0.0037 - val_loss: 0.0011 - val_mae: 0.0289\n",
      "Epoch 55/100\n",
      "276/276 [==============================] - 7s 27ms/step - loss: 2.2877e-05 - mae: 0.0035 - val_loss: 3.9624e-04 - val_mae: 0.0165\n",
      "Epoch 56/100\n",
      "276/276 [==============================] - 7s 27ms/step - loss: 2.0817e-05 - mae: 0.0033 - val_loss: 8.0227e-04 - val_mae: 0.0249\n",
      "Epoch 57/100\n",
      "276/276 [==============================] - 7s 26ms/step - loss: 2.2052e-05 - mae: 0.0034 - val_loss: 4.7639e-04 - val_mae: 0.0184\n",
      "Epoch 58/100\n",
      "276/276 [==============================] - 7s 27ms/step - loss: 2.2913e-05 - mae: 0.0035 - val_loss: 1.6371e-04 - val_mae: 0.0097\n",
      "Epoch 59/100\n",
      "276/276 [==============================] - 7s 26ms/step - loss: 2.0885e-05 - mae: 0.0032 - val_loss: 5.7364e-04 - val_mae: 0.0204\n",
      "Epoch 60/100\n",
      "276/276 [==============================] - 1030s 4s/step - loss: 2.2295e-05 - mae: 0.0034 - val_loss: 4.3642e-04 - val_mae: 0.0176\n",
      "Epoch 61/100\n",
      "276/276 [==============================] - 7s 26ms/step - loss: 2.1968e-05 - mae: 0.0034 - val_loss: 8.5447e-04 - val_mae: 0.0258\n",
      "Epoch 62/100\n",
      "276/276 [==============================] - 7s 26ms/step - loss: 2.2263e-05 - mae: 0.0034 - val_loss: 8.0063e-04 - val_mae: 0.0244\n",
      "Epoch 63/100\n",
      "276/276 [==============================] - 7s 26ms/step - loss: 2.2461e-05 - mae: 0.0034 - val_loss: 3.7930e-04 - val_mae: 0.0159\n",
      "Epoch 64/100\n",
      "276/276 [==============================] - 7s 25ms/step - loss: 2.3651e-05 - mae: 0.0035 - val_loss: 4.8699e-04 - val_mae: 0.0186\n",
      "Epoch 65/100\n",
      "276/276 [==============================] - 1011s 4s/step - loss: 2.1592e-05 - mae: 0.0034 - val_loss: 4.3323e-04 - val_mae: 0.0175\n",
      "Epoch 66/100\n",
      "276/276 [==============================] - 7s 26ms/step - loss: 2.3162e-05 - mae: 0.0035 - val_loss: 6.2397e-04 - val_mae: 0.0216\n",
      "Epoch 67/100\n",
      "276/276 [==============================] - 7s 26ms/step - loss: 2.0605e-05 - mae: 0.0032 - val_loss: 6.7688e-04 - val_mae: 0.0222\n",
      "Epoch 68/100\n",
      "276/276 [==============================] - 7s 26ms/step - loss: 2.0112e-05 - mae: 0.0032 - val_loss: 6.5273e-04 - val_mae: 0.0220\n",
      "Epoch 69/100\n",
      "276/276 [==============================] - 7s 26ms/step - loss: 2.2014e-05 - mae: 0.0034 - val_loss: 5.2915e-04 - val_mae: 0.0196\n",
      "Epoch 70/100\n",
      "276/276 [==============================] - 7s 26ms/step - loss: 2.1961e-05 - mae: 0.0034 - val_loss: 6.0956e-04 - val_mae: 0.0215\n",
      "Epoch 71/100\n",
      "276/276 [==============================] - 7s 27ms/step - loss: 2.0589e-05 - mae: 0.0033 - val_loss: 7.5441e-04 - val_mae: 0.0239\n",
      "Epoch 72/100\n",
      "276/276 [==============================] - 7s 27ms/step - loss: 2.1900e-05 - mae: 0.0034 - val_loss: 6.8269e-04 - val_mae: 0.0225\n",
      "Epoch 73/100\n",
      "276/276 [==============================] - 7s 27ms/step - loss: 2.0359e-05 - mae: 0.0033 - val_loss: 4.0673e-04 - val_mae: 0.0165\n",
      "Epoch 74/100\n",
      "276/276 [==============================] - 7s 26ms/step - loss: 2.4255e-05 - mae: 0.0036 - val_loss: 2.2653e-04 - val_mae: 0.0117\n",
      "Epoch 75/100\n",
      "276/276 [==============================] - 7s 27ms/step - loss: 2.2820e-05 - mae: 0.0034 - val_loss: 2.0442e-04 - val_mae: 0.0111\n",
      "Epoch 76/100\n",
      "276/276 [==============================] - 7s 27ms/step - loss: 2.1177e-05 - mae: 0.0033 - val_loss: 5.2416e-04 - val_mae: 0.0195\n",
      "Epoch 77/100\n",
      "276/276 [==============================] - 7s 27ms/step - loss: 2.1603e-05 - mae: 0.0034 - val_loss: 5.7066e-04 - val_mae: 0.0204\n",
      "Epoch 78/100\n",
      "276/276 [==============================] - 7s 27ms/step - loss: 2.0251e-05 - mae: 0.0032 - val_loss: 4.9586e-04 - val_mae: 0.0190\n",
      "Epoch 79/100\n",
      "276/276 [==============================] - 7s 27ms/step - loss: 2.0735e-05 - mae: 0.0032 - val_loss: 4.0701e-04 - val_mae: 0.0170\n",
      "Epoch 80/100\n",
      "276/276 [==============================] - 7s 27ms/step - loss: 2.1582e-05 - mae: 0.0033 - val_loss: 2.0373e-04 - val_mae: 0.0110\n",
      "Epoch 81/100\n",
      "276/276 [==============================] - 7s 26ms/step - loss: 2.0190e-05 - mae: 0.0032 - val_loss: 3.6107e-04 - val_mae: 0.0157\n",
      "Epoch 82/100\n",
      "276/276 [==============================] - 7s 26ms/step - loss: 2.2236e-05 - mae: 0.0034 - val_loss: 2.4508e-04 - val_mae: 0.0123\n",
      "Epoch 83/100\n",
      "276/276 [==============================] - 7s 26ms/step - loss: 2.0782e-05 - mae: 0.0033 - val_loss: 3.6512e-04 - val_mae: 0.0158\n",
      "Epoch 84/100\n",
      "276/276 [==============================] - 7s 26ms/step - loss: 2.1184e-05 - mae: 0.0033 - val_loss: 3.0172e-04 - val_mae: 0.0142\n",
      "Epoch 85/100\n",
      "276/276 [==============================] - 7s 26ms/step - loss: 2.2331e-05 - mae: 0.0034 - val_loss: 3.4185e-04 - val_mae: 0.0152\n",
      "Epoch 86/100\n",
      "276/276 [==============================] - 7s 26ms/step - loss: 1.9467e-05 - mae: 0.0031 - val_loss: 2.5446e-04 - val_mae: 0.0128\n",
      "Epoch 87/100\n",
      "276/276 [==============================] - 8s 29ms/step - loss: 2.1876e-05 - mae: 0.0034 - val_loss: 3.4672e-04 - val_mae: 0.0152\n",
      "Epoch 88/100\n",
      "276/276 [==============================] - 8s 29ms/step - loss: 1.9873e-05 - mae: 0.0032 - val_loss: 6.0253e-04 - val_mae: 0.0214\n",
      "Epoch 89/100\n",
      "276/276 [==============================] - 8s 27ms/step - loss: 2.1141e-05 - mae: 0.0033 - val_loss: 2.8925e-04 - val_mae: 0.0139\n",
      "Epoch 90/100\n",
      "276/276 [==============================] - 8s 28ms/step - loss: 2.3062e-05 - mae: 0.0034 - val_loss: 1.6665e-04 - val_mae: 0.0097\n",
      "Epoch 91/100\n",
      "276/276 [==============================] - 7s 27ms/step - loss: 2.0139e-05 - mae: 0.0032 - val_loss: 2.1712e-04 - val_mae: 0.0116\n",
      "Epoch 92/100\n",
      "276/276 [==============================] - 8s 27ms/step - loss: 2.0489e-05 - mae: 0.0032 - val_loss: 2.1617e-04 - val_mae: 0.0116\n",
      "Epoch 93/100\n",
      "276/276 [==============================] - 7s 26ms/step - loss: 2.0541e-05 - mae: 0.0032 - val_loss: 2.7717e-04 - val_mae: 0.0135\n",
      "Epoch 94/100\n",
      "276/276 [==============================] - 7s 26ms/step - loss: 1.9645e-05 - mae: 0.0032 - val_loss: 2.4260e-04 - val_mae: 0.0123\n",
      "Epoch 95/100\n",
      "276/276 [==============================] - 7s 26ms/step - loss: 2.1909e-05 - mae: 0.0034 - val_loss: 2.9974e-04 - val_mae: 0.0141\n",
      "Epoch 96/100\n",
      "276/276 [==============================] - 7s 26ms/step - loss: 2.0212e-05 - mae: 0.0032 - val_loss: 1.6714e-04 - val_mae: 0.0098\n",
      "Epoch 97/100\n",
      "276/276 [==============================] - 7s 26ms/step - loss: 2.0958e-05 - mae: 0.0033 - val_loss: 3.2707e-04 - val_mae: 0.0150\n",
      "Epoch 98/100\n",
      "276/276 [==============================] - 7s 26ms/step - loss: 2.0422e-05 - mae: 0.0032 - val_loss: 2.6058e-04 - val_mae: 0.0130\n",
      "Epoch 99/100\n",
      "276/276 [==============================] - 7s 26ms/step - loss: 1.9704e-05 - mae: 0.0032 - val_loss: 3.4786e-04 - val_mae: 0.0154\n",
      "Epoch 100/100\n",
      "276/276 [==============================] - 7s 26ms/step - loss: 1.9452e-05 - mae: 0.0031 - val_loss: 3.7171e-04 - val_mae: 0.0160\n"
     ]
    }
   ],
   "source": [
    "EPOCHS = 100\n",
    "BATCH_SIZE = 16\n",
    "\n",
    "history = model.fit(X_train, y_train,\n",
    "         validation_data=(X_test, y_test),\n",
    "         epochs=EPOCHS,\n",
    "         batch_size=BATCH_SIZE)"
   ]
  },
  {
   "cell_type": "code",
   "execution_count": null,
   "id": "8a0e26cc-7777-4d97-9a98-6fe8e2b25161",
   "metadata": {},
   "outputs": [],
   "source": []
  }
 ],
 "metadata": {
  "kernelspec": {
   "display_name": "Python 3 (ipykernel)",
   "language": "python",
   "name": "python3"
  },
  "language_info": {
   "codemirror_mode": {
    "name": "ipython",
    "version": 3
   },
   "file_extension": ".py",
   "mimetype": "text/x-python",
   "name": "python",
   "nbconvert_exporter": "python",
   "pygments_lexer": "ipython3",
   "version": "3.9.12"
  }
 },
 "nbformat": 4,
 "nbformat_minor": 5
}
